{
 "cells": [
  {
   "cell_type": "markdown",
   "metadata": {},
   "source": [
    "# FinBERT Example Notebook\n",
    "\n",
    "This notebooks shows how to train and use the FinBERT pre-trained language model for financial sentiment analysis."
   ]
  },
  {
   "cell_type": "markdown",
   "metadata": {},
   "source": [
    "## Modules "
   ]
  },
  {
   "cell_type": "code",
   "execution_count": 1,
   "metadata": {
    "ExecuteTime": {
     "end_time": "2020-03-23T15:55:04.902740Z",
     "start_time": "2020-03-23T15:55:04.876252Z"
    }
   },
   "outputs": [],
   "source": [
    "from pathlib import Path\n",
    "import shutil\n",
    "import os\n",
    "import logging\n",
    "import sys\n",
    "sys.path.append('..')\n",
    "\n",
    "from textblob import TextBlob\n",
    "from pprint import pprint\n",
    "from sklearn.metrics import classification_report\n",
    "\n",
    "from transformers import AutoModelForSequenceClassification\n",
    "\n",
    "from finbert.finbert import *\n",
    "import finbert.utils as tools\n",
    "\n",
    "%load_ext autoreload\n",
    "%autoreload 2\n",
    "\n",
    "project_dir = Path.cwd().parent\n",
    "pd.set_option('max_colwidth', -1)"
   ]
  },
  {
   "cell_type": "code",
   "execution_count": 2,
   "metadata": {
    "ExecuteTime": {
     "end_time": "2020-03-23T15:55:05.711210Z",
     "start_time": "2020-03-23T15:55:05.693609Z"
    }
   },
   "outputs": [],
   "source": [
    "logging.basicConfig(format = '%(asctime)s - %(levelname)s - %(name)s -   %(message)s',\n",
    "                    datefmt = '%m/%d/%Y %H:%M:%S',\n",
    "                    level = logging.ERROR)"
   ]
  },
  {
   "cell_type": "markdown",
   "metadata": {},
   "source": [
    "## Prepare the model"
   ]
  },
  {
   "cell_type": "markdown",
   "metadata": {},
   "source": [
    "### Setting path variables:\n",
    "1. `lm_path`: the path for the pre-trained language model (If vanilla Bert is used then no need to set this one).\n",
    "2. `cl_path`: the path where the classification model is saved.\n",
    "3. `cl_data_path`: the path of the directory that contains the data files of `train.csv`, `validation.csv`, `test.csv`.\n",
    "---\n",
    "\n",
    "In the initialization of `bertmodel`, we can either use the original pre-trained weights from Google by giving `bm = 'bert-base-uncased`, or our further pre-trained language model by `bm = lm_path`\n",
    "\n",
    "\n",
    "---\n",
    "All of the configurations with the model is controlled with the `config` variable. "
   ]
  },
  {
   "cell_type": "code",
   "execution_count": 19,
   "metadata": {
    "ExecuteTime": {
     "end_time": "2020-03-23T15:55:07.405597Z",
     "start_time": "2020-03-23T15:55:07.386378Z"
    }
   },
   "outputs": [],
   "source": [
    "lm_path = project_dir/'models'/'language_model'/'HF'\n",
    "cl_path = project_dir/'models'/'classifier_model'/'finbert-sentiment'\n",
    "cl_data_path = project_dir/'data'/'sentiment_data'"
   ]
  },
  {
   "cell_type": "markdown",
   "metadata": {},
   "source": [
    "### Get predictions"
   ]
  },
  {
   "cell_type": "markdown",
   "metadata": {},
   "source": [
    "With the `predict` function, given a piece of text, we split it into a list of sentences and then predict sentiment for each sentence. The output is written into a dataframe. Predictions are represented in three different columns: \n",
    "\n",
    "1) `logit`: probabilities for each class\n",
    "\n",
    "2) `prediction`: predicted label\n",
    "\n",
    "3) `sentiment_score`: sentiment score calculated as: probability of positive - probability of negative\n",
    "\n",
    "Below we analyze a paragraph taken out of [this](https://www.economist.com/finance-and-economics/2019/01/03/a-profit-warning-from-apple-jolts-markets) article from The Economist. For comparison purposes, we also put the sentiments predicted with TextBlob.\n",
    "> Later that day Apple said it was revising down its earnings expectations in the fourth quarter of 2018, largely because of lower sales and signs of economic weakness in China. The news rapidly infected financial markets. Apple’s share price fell by around 7% in after-hours trading and the decline was extended to more than 10% when the market opened. The dollar fell by 3.7% against the yen in a matter of minutes after the announcement, before rapidly recovering some ground. Asian stockmarkets closed down on January 3rd and European ones opened lower. Yields on government bonds fell as investors fled to the traditional haven in a market storm."
   ]
  },
  {
   "cell_type": "code",
   "execution_count": 20,
   "metadata": {
    "ExecuteTime": {
     "end_time": "2020-03-23T15:59:03.875213Z",
     "start_time": "2020-03-23T15:59:03.857612Z"
    }
   },
   "outputs": [],
   "source": [
    "text = \"Later that day Apple said it was revising down its earnings expectations in \\\n",
    "the fourth quarter of 2018, largely because of lower sales and signs of economic weakness in China. \\\n",
    "The news rapidly infected financial markets. Apple’s share price fell by around 7% in after-hours \\\n",
    "trading and the decline was extended to more than 10% when the market opened. The dollar fell \\\n",
    "by 3.7% against the yen in a matter of minutes after the announcement, before rapidly recovering \\\n",
    "some ground. Asian stockmarkets closed down on January 3rd and European ones opened lower. \\\n",
    "Yields on government bonds fell as investors fled to the traditional haven in a market storm.\""
   ]
  },
  {
   "cell_type": "code",
   "execution_count": 30,
   "metadata": {
    "ExecuteTime": {
     "end_time": "2020-03-23T15:59:16.246963Z",
     "start_time": "2020-03-23T15:59:13.285393Z"
    },
    "scrolled": true
   },
   "outputs": [],
   "source": [
    "cl_path = project_dir/'models'/'sentiment'/'PhraseBank'\n",
    "model = AutoModelForSequenceClassification.from_pretrained(cl_path, cache_dir=None, num_labels=3)"
   ]
  },
  {
   "cell_type": "code",
   "execution_count": 31,
   "metadata": {},
   "outputs": [
    {
     "name": "stderr",
     "output_type": "stream",
     "text": [
      "[nltk_data] Downloading package punkt to C:\\Users\\Ari\n",
      "[nltk_data]     Shater\\AppData\\Roaming\\nltk_data...\n",
      "[nltk_data]   Package punkt is already up-to-date!\n"
     ]
    },
    {
     "data": {
      "text/plain": [
       "True"
      ]
     },
     "execution_count": 31,
     "metadata": {},
     "output_type": "execute_result"
    }
   ],
   "source": [
    "import nltk\n",
    "nltk.download('punkt')"
   ]
  },
  {
   "cell_type": "code",
   "execution_count": 32,
   "metadata": {
    "ExecuteTime": {
     "end_time": "2020-03-23T15:59:19.531663Z",
     "start_time": "2020-03-23T15:59:17.744984Z"
    },
    "collapsed": true
   },
   "outputs": [
    {
     "name": "stderr",
     "output_type": "stream",
     "text": [
      "11/03/2021 12:36:42 - INFO - finbert.utils -   *** Example ***\n",
      "11/03/2021 12:36:42 - INFO - finbert.utils -   guid: 0\n",
      "11/03/2021 12:36:42 - INFO - finbert.utils -   tokens: [CLS] later that day apple said it was rev ##ising down its earnings expectations in the fourth quarter of 2018 , largely because of lower sales and signs of economic weakness in china . [SEP]\n",
      "11/03/2021 12:36:42 - INFO - finbert.utils -   input_ids: 101 2101 2008 2154 6207 2056 2009 2001 7065 9355 2091 2049 16565 10908 1999 1996 2959 4284 1997 2760 1010 4321 2138 1997 2896 4341 1998 5751 1997 3171 11251 1999 2859 1012 102 0 0 0 0 0 0 0 0 0 0 0 0 0 0 0 0 0 0 0 0 0 0 0 0 0 0 0 0 0\n",
      "11/03/2021 12:36:42 - INFO - finbert.utils -   attention_mask: 1 1 1 1 1 1 1 1 1 1 1 1 1 1 1 1 1 1 1 1 1 1 1 1 1 1 1 1 1 1 1 1 1 1 1 0 0 0 0 0 0 0 0 0 0 0 0 0 0 0 0 0 0 0 0 0 0 0 0 0 0 0 0 0\n",
      "11/03/2021 12:36:42 - INFO - finbert.utils -   token_type_ids: 0 0 0 0 0 0 0 0 0 0 0 0 0 0 0 0 0 0 0 0 0 0 0 0 0 0 0 0 0 0 0 0 0 0 0 0 0 0 0 0 0 0 0 0 0 0 0 0 0 0 0 0 0 0 0 0 0 0 0 0 0 0 0 0\n",
      "11/03/2021 12:36:42 - INFO - finbert.utils -   label: None (id = 9090)\n",
      "11/03/2021 12:36:43 - INFO - root -   tensor([[-1.6952,  2.1739, -1.0573],\n",
      "        [-1.5260,  1.6201, -0.3462],\n",
      "        [-1.7689,  2.7160, -1.6544],\n",
      "        [-0.9386,  2.1794, -1.9287],\n",
      "        [-1.9850,  2.6273, -1.3049]])\n",
      "11/03/2021 12:36:43 - INFO - finbert.utils -   *** Example ***\n",
      "11/03/2021 12:36:43 - INFO - finbert.utils -   guid: 0\n",
      "11/03/2021 12:36:43 - INFO - finbert.utils -   tokens: [CLS] yields on government bonds fell as investors fled to the traditional haven in a market storm . [SEP]\n",
      "11/03/2021 12:36:43 - INFO - finbert.utils -   input_ids: 101 16189 2006 2231 9547 3062 2004 9387 6783 2000 1996 3151 4033 1999 1037 3006 4040 1012 102 0 0 0 0 0 0 0 0 0 0 0 0 0 0 0 0 0 0 0 0 0 0 0 0 0 0 0 0 0 0 0 0 0 0 0 0 0 0 0 0 0 0 0 0 0\n",
      "11/03/2021 12:36:43 - INFO - finbert.utils -   attention_mask: 1 1 1 1 1 1 1 1 1 1 1 1 1 1 1 1 1 1 1 0 0 0 0 0 0 0 0 0 0 0 0 0 0 0 0 0 0 0 0 0 0 0 0 0 0 0 0 0 0 0 0 0 0 0 0 0 0 0 0 0 0 0 0 0\n",
      "11/03/2021 12:36:43 - INFO - finbert.utils -   token_type_ids: 0 0 0 0 0 0 0 0 0 0 0 0 0 0 0 0 0 0 0 0 0 0 0 0 0 0 0 0 0 0 0 0 0 0 0 0 0 0 0 0 0 0 0 0 0 0 0 0 0 0 0 0 0 0 0 0 0 0 0 0 0 0 0 0\n",
      "11/03/2021 12:36:43 - INFO - finbert.utils -   label: None (id = 9090)\n",
      "11/03/2021 12:36:43 - INFO - root -   tensor([[-1.5377,  2.1062, -1.1402]])\n"
     ]
    }
   ],
   "source": [
    "result = predict(text,model)"
   ]
  },
  {
   "cell_type": "code",
   "execution_count": 33,
   "metadata": {
    "ExecuteTime": {
     "end_time": "2020-03-23T15:59:20.519047Z",
     "start_time": "2020-03-23T15:59:20.440450Z"
    }
   },
   "outputs": [
    {
     "data": {
      "text/html": [
       "<div>\n",
       "<style scoped>\n",
       "    .dataframe tbody tr th:only-of-type {\n",
       "        vertical-align: middle;\n",
       "    }\n",
       "\n",
       "    .dataframe tbody tr th {\n",
       "        vertical-align: top;\n",
       "    }\n",
       "\n",
       "    .dataframe thead th {\n",
       "        text-align: right;\n",
       "    }\n",
       "</style>\n",
       "<table border=\"1\" class=\"dataframe\">\n",
       "  <thead>\n",
       "    <tr style=\"text-align: right;\">\n",
       "      <th></th>\n",
       "      <th>sentence</th>\n",
       "      <th>logit</th>\n",
       "      <th>prediction</th>\n",
       "      <th>sentiment_score</th>\n",
       "      <th>textblob_prediction</th>\n",
       "    </tr>\n",
       "  </thead>\n",
       "  <tbody>\n",
       "    <tr>\n",
       "      <th>0</th>\n",
       "      <td>Later that day Apple said it was revising down its earnings expectations in the fourth quarter of 2018, largely because of lower sales and signs of economic weakness in China.</td>\n",
       "      <td>[0.019688547, 0.943051, 0.03726054]</td>\n",
       "      <td>negative</td>\n",
       "      <td>-0.923362</td>\n",
       "      <td>0.051746</td>\n",
       "    </tr>\n",
       "    <tr>\n",
       "      <th>1</th>\n",
       "      <td>The news rapidly infected financial markets.</td>\n",
       "      <td>[0.03636261, 0.8453178, 0.11831957]</td>\n",
       "      <td>negative</td>\n",
       "      <td>-0.808955</td>\n",
       "      <td>0.000000</td>\n",
       "    </tr>\n",
       "    <tr>\n",
       "      <th>2</th>\n",
       "      <td>Apple’s share price fell by around 7% in after-hours trading and the decline was extended to more than 10% when the market opened.</td>\n",
       "      <td>[0.011015106, 0.97663385, 0.012351019]</td>\n",
       "      <td>negative</td>\n",
       "      <td>-0.965619</td>\n",
       "      <td>0.500000</td>\n",
       "    </tr>\n",
       "    <tr>\n",
       "      <th>3</th>\n",
       "      <td>The dollar fell by 3.7% against the yen in a matter of minutes after the announcement, before rapidly recovering some ground.</td>\n",
       "      <td>[0.041714374, 0.94278675, 0.0154988365]</td>\n",
       "      <td>negative</td>\n",
       "      <td>-0.901072</td>\n",
       "      <td>0.000000</td>\n",
       "    </tr>\n",
       "    <tr>\n",
       "      <th>4</th>\n",
       "      <td>Asian stockmarkets closed down on January 3rd and European ones opened lower.</td>\n",
       "      <td>[0.009644214, 0.9713174, 0.019038338]</td>\n",
       "      <td>negative</td>\n",
       "      <td>-0.961673</td>\n",
       "      <td>-0.051111</td>\n",
       "    </tr>\n",
       "    <tr>\n",
       "      <th>5</th>\n",
       "      <td>Yields on government bonds fell as investors fled to the traditional haven in a market storm.</td>\n",
       "      <td>[0.024553772, 0.93890846, 0.03653781]</td>\n",
       "      <td>negative</td>\n",
       "      <td>-0.914355</td>\n",
       "      <td>0.000000</td>\n",
       "    </tr>\n",
       "  </tbody>\n",
       "</table>\n",
       "</div>"
      ],
      "text/plain": [
       "                                                                                                                                                                          sentence  \\\n",
       "0  Later that day Apple said it was revising down its earnings expectations in the fourth quarter of 2018, largely because of lower sales and signs of economic weakness in China.   \n",
       "1  The news rapidly infected financial markets.                                                                                                                                      \n",
       "2  Apple’s share price fell by around 7% in after-hours trading and the decline was extended to more than 10% when the market opened.                                                \n",
       "3  The dollar fell by 3.7% against the yen in a matter of minutes after the announcement, before rapidly recovering some ground.                                                     \n",
       "4  Asian stockmarkets closed down on January 3rd and European ones opened lower.                                                                                                     \n",
       "5  Yields on government bonds fell as investors fled to the traditional haven in a market storm.                                                                                     \n",
       "\n",
       "                                     logit prediction  sentiment_score  \\\n",
       "0  [0.019688547, 0.943051, 0.03726054]      negative  -0.923362          \n",
       "1  [0.03636261, 0.8453178, 0.11831957]      negative  -0.808955          \n",
       "2  [0.011015106, 0.97663385, 0.012351019]   negative  -0.965619          \n",
       "3  [0.041714374, 0.94278675, 0.0154988365]  negative  -0.901072          \n",
       "4  [0.009644214, 0.9713174, 0.019038338]    negative  -0.961673          \n",
       "5  [0.024553772, 0.93890846, 0.03653781]    negative  -0.914355          \n",
       "\n",
       "   textblob_prediction  \n",
       "0  0.051746             \n",
       "1  0.000000             \n",
       "2  0.500000             \n",
       "3  0.000000             \n",
       "4 -0.051111             \n",
       "5  0.000000             "
      ]
     },
     "execution_count": 33,
     "metadata": {},
     "output_type": "execute_result"
    }
   ],
   "source": [
    "blob = TextBlob(text)\n",
    "result['textblob_prediction'] = [sentence.sentiment.polarity for sentence in blob.sentences]\n",
    "result"
   ]
  },
  {
   "cell_type": "code",
   "execution_count": 34,
   "metadata": {
    "ExecuteTime": {
     "end_time": "2020-03-23T15:59:38.737969Z",
     "start_time": "2020-03-23T15:59:38.718255Z"
    }
   },
   "outputs": [
    {
     "name": "stdout",
     "output_type": "stream",
     "text": [
      "Average sentiment is -0.91.\n"
     ]
    }
   ],
   "source": [
    "print(f'Average sentiment is %.2f.' % (result.sentiment_score.mean()))"
   ]
  },
  {
   "cell_type": "markdown",
   "metadata": {},
   "source": [
    "Here is another example"
   ]
  },
  {
   "cell_type": "code",
   "execution_count": 35,
   "metadata": {
    "ExecuteTime": {
     "end_time": "2020-03-23T15:59:45.922058Z",
     "start_time": "2020-03-23T15:59:45.904622Z"
    }
   },
   "outputs": [],
   "source": [
    "text2 = \"Shares in the spin-off of South African e-commerce group Naspers surged more than 25% \\\n",
    "in the first minutes of their market debut in Amsterdam on Wednesday. Bob van Dijk, CEO of \\\n",
    "Naspers and Prosus Group poses at Amsterdam's stock exchange, as Prosus begins trading on the \\\n",
    "Euronext stock exchange in Amsterdam, Netherlands, September 11, 2019. REUTERS/Piroschka van de Wouw \\\n",
    "Prosus comprises Naspers’ global empire of consumer internet assets, with the jewel in the crown a \\\n",
    "31% stake in Chinese tech titan Tencent. There is 'way more demand than is even available, so that’s \\\n",
    "good,' said the CEO of Euronext Amsterdam, Maurice van Tilburg. 'It’s going to be an interesting \\\n",
    "hour of trade after opening this morning.' Euronext had given an indicative price of 58.70 euros \\\n",
    "per share for Prosus, implying a market value of 95.3 billion euros ($105 billion). The shares \\\n",
    "jumped to 76 euros on opening and were trading at 75 euros at 0719 GMT.\""
   ]
  },
  {
   "cell_type": "code",
   "execution_count": 36,
   "metadata": {
    "ExecuteTime": {
     "end_time": "2020-03-23T15:59:48.152474Z",
     "start_time": "2020-03-23T15:59:47.028417Z"
    },
    "scrolled": true
   },
   "outputs": [
    {
     "name": "stderr",
     "output_type": "stream",
     "text": [
      "11/03/2021 12:36:55 - INFO - finbert.utils -   *** Example ***\n",
      "11/03/2021 12:36:55 - INFO - finbert.utils -   guid: 0\n",
      "11/03/2021 12:36:55 - INFO - finbert.utils -   tokens: [CLS] shares in the spin - off of south african e - commerce group nas ##pers surged more than 25 % in the first minutes of their market debut in amsterdam on wednesday . [SEP]\n",
      "11/03/2021 12:36:55 - INFO - finbert.utils -   input_ids: 101 6661 1999 1996 6714 1011 2125 1997 2148 3060 1041 1011 6236 2177 17235 7347 18852 2062 2084 2423 1003 1999 1996 2034 2781 1997 2037 3006 2834 1999 7598 2006 9317 1012 102 0 0 0 0 0 0 0 0 0 0 0 0 0 0 0 0 0 0 0 0 0 0 0 0 0 0 0 0 0\n",
      "11/03/2021 12:36:55 - INFO - finbert.utils -   attention_mask: 1 1 1 1 1 1 1 1 1 1 1 1 1 1 1 1 1 1 1 1 1 1 1 1 1 1 1 1 1 1 1 1 1 1 1 0 0 0 0 0 0 0 0 0 0 0 0 0 0 0 0 0 0 0 0 0 0 0 0 0 0 0 0 0\n",
      "11/03/2021 12:36:55 - INFO - finbert.utils -   token_type_ids: 0 0 0 0 0 0 0 0 0 0 0 0 0 0 0 0 0 0 0 0 0 0 0 0 0 0 0 0 0 0 0 0 0 0 0 0 0 0 0 0 0 0 0 0 0 0 0 0 0 0 0 0 0 0 0 0 0 0 0 0 0 0 0 0\n",
      "11/03/2021 12:36:55 - INFO - finbert.utils -   label: None (id = 9090)\n",
      "11/03/2021 12:36:55 - INFO - root -   tensor([[ 2.4562, -1.3700, -0.7384],\n",
      "        [-0.5004, -1.9383,  2.7131],\n",
      "        [ 0.1072, -2.7187,  2.5237],\n",
      "        [ 2.1397, -2.1224,  0.0580],\n",
      "        [ 0.7691, -2.1299,  1.2294]])\n",
      "11/03/2021 12:36:55 - INFO - finbert.utils -   *** Example ***\n",
      "11/03/2021 12:36:55 - INFO - finbert.utils -   guid: 0\n",
      "11/03/2021 12:36:55 - INFO - finbert.utils -   tokens: [CLS] euro ##ne ##xt had given an indicative price of 58 . 70 euros per share for pro ##sus , implying a market value of 95 . 3 billion euros ( $ 105 billion ) . [SEP]\n",
      "11/03/2021 12:36:55 - INFO - finbert.utils -   input_ids: 101 9944 2638 18413 2018 2445 2019 24668 3976 1997 5388 1012 3963 19329 2566 3745 2005 4013 13203 1010 20242 1037 3006 3643 1997 5345 1012 1017 4551 19329 1006 1002 8746 4551 1007 1012 102 0 0 0 0 0 0 0 0 0 0 0 0 0 0 0 0 0 0 0 0 0 0 0 0 0 0 0\n",
      "11/03/2021 12:36:55 - INFO - finbert.utils -   attention_mask: 1 1 1 1 1 1 1 1 1 1 1 1 1 1 1 1 1 1 1 1 1 1 1 1 1 1 1 1 1 1 1 1 1 1 1 1 1 0 0 0 0 0 0 0 0 0 0 0 0 0 0 0 0 0 0 0 0 0 0 0 0 0 0 0\n",
      "11/03/2021 12:36:55 - INFO - finbert.utils -   token_type_ids: 0 0 0 0 0 0 0 0 0 0 0 0 0 0 0 0 0 0 0 0 0 0 0 0 0 0 0 0 0 0 0 0 0 0 0 0 0 0 0 0 0 0 0 0 0 0 0 0 0 0 0 0 0 0 0 0 0 0 0 0 0 0 0 0\n",
      "11/03/2021 12:36:55 - INFO - finbert.utils -   label: None (id = 9090)\n",
      "11/03/2021 12:36:55 - INFO - root -   tensor([[ 0.1509, -2.2597,  1.9677],\n",
      "        [ 1.6271, -2.0584,  0.4475]])\n"
     ]
    }
   ],
   "source": [
    "result2 = predict(text2,model)\n",
    "blob = TextBlob(text2)\n",
    "result2['textblob_prediction'] = [sentence.sentiment.polarity for sentence in blob.sentences]"
   ]
  },
  {
   "cell_type": "code",
   "execution_count": 37,
   "metadata": {
    "ExecuteTime": {
     "end_time": "2020-03-23T15:59:50.428951Z",
     "start_time": "2020-03-23T15:59:50.402385Z"
    }
   },
   "outputs": [
    {
     "data": {
      "text/html": [
       "<div>\n",
       "<style scoped>\n",
       "    .dataframe tbody tr th:only-of-type {\n",
       "        vertical-align: middle;\n",
       "    }\n",
       "\n",
       "    .dataframe tbody tr th {\n",
       "        vertical-align: top;\n",
       "    }\n",
       "\n",
       "    .dataframe thead th {\n",
       "        text-align: right;\n",
       "    }\n",
       "</style>\n",
       "<table border=\"1\" class=\"dataframe\">\n",
       "  <thead>\n",
       "    <tr style=\"text-align: right;\">\n",
       "      <th></th>\n",
       "      <th>sentence</th>\n",
       "      <th>logit</th>\n",
       "      <th>prediction</th>\n",
       "      <th>sentiment_score</th>\n",
       "      <th>textblob_prediction</th>\n",
       "    </tr>\n",
       "  </thead>\n",
       "  <tbody>\n",
       "    <tr>\n",
       "      <th>0</th>\n",
       "      <td>Shares in the spin-off of South African e-commerce group Naspers surged more than 25% in the first minutes of their market debut in Amsterdam on Wednesday.</td>\n",
       "      <td>[0.94092953, 0.020505346, 0.038565077]</td>\n",
       "      <td>positive</td>\n",
       "      <td>0.920424</td>\n",
       "      <td>0.250000</td>\n",
       "    </tr>\n",
       "    <tr>\n",
       "      <th>1</th>\n",
       "      <td>Bob van Dijk, CEO of Naspers and Prosus Group poses at Amsterdam's stock exchange, as Prosus begins trading on the Euronext stock exchange in Amsterdam, Netherlands, September 11, 2019.</td>\n",
       "      <td>[0.038308043, 0.009095702, 0.9525962]</td>\n",
       "      <td>neutral</td>\n",
       "      <td>0.029212</td>\n",
       "      <td>0.000000</td>\n",
       "    </tr>\n",
       "    <tr>\n",
       "      <th>2</th>\n",
       "      <td>REUTERS/Piroschka van de Wouw Prosus comprises Naspers’ global empire of consumer internet assets, with the jewel in the crown a 31% stake in Chinese tech titan Tencent.</td>\n",
       "      <td>[0.08153229, 0.004831059, 0.9136367]</td>\n",
       "      <td>neutral</td>\n",
       "      <td>0.076701</td>\n",
       "      <td>0.000000</td>\n",
       "    </tr>\n",
       "    <tr>\n",
       "      <th>3</th>\n",
       "      <td>There is 'way more demand than is even available, so that’s good,' said the CEO of Euronext Amsterdam, Maurice van Tilburg.</td>\n",
       "      <td>[0.87810785, 0.012375466, 0.10951679]</td>\n",
       "      <td>positive</td>\n",
       "      <td>0.865732</td>\n",
       "      <td>0.533333</td>\n",
       "    </tr>\n",
       "    <tr>\n",
       "      <th>4</th>\n",
       "      <td>'It’s going to be an interesting hour of trade after opening this morning.'</td>\n",
       "      <td>[0.3788322, 0.020865673, 0.60030216]</td>\n",
       "      <td>neutral</td>\n",
       "      <td>0.357967</td>\n",
       "      <td>0.500000</td>\n",
       "    </tr>\n",
       "    <tr>\n",
       "      <th>5</th>\n",
       "      <td>Euronext had given an indicative price of 58.70 euros per share for Prosus, implying a market value of 95.3 billion euros ($105 billion).</td>\n",
       "      <td>[0.13808328, 0.012395252, 0.84952146]</td>\n",
       "      <td>neutral</td>\n",
       "      <td>0.125688</td>\n",
       "      <td>0.000000</td>\n",
       "    </tr>\n",
       "    <tr>\n",
       "      <th>6</th>\n",
       "      <td>The shares jumped to 76 euros on opening and were trading at 75 euros at 0719 GMT.</td>\n",
       "      <td>[0.75047094, 0.01882578, 0.23070328]</td>\n",
       "      <td>positive</td>\n",
       "      <td>0.731645</td>\n",
       "      <td>0.000000</td>\n",
       "    </tr>\n",
       "  </tbody>\n",
       "</table>\n",
       "</div>"
      ],
      "text/plain": [
       "                                                                                                                                                                                    sentence  \\\n",
       "0  Shares in the spin-off of South African e-commerce group Naspers surged more than 25% in the first minutes of their market debut in Amsterdam on Wednesday.                                 \n",
       "1  Bob van Dijk, CEO of Naspers and Prosus Group poses at Amsterdam's stock exchange, as Prosus begins trading on the Euronext stock exchange in Amsterdam, Netherlands, September 11, 2019.   \n",
       "2  REUTERS/Piroschka van de Wouw Prosus comprises Naspers’ global empire of consumer internet assets, with the jewel in the crown a 31% stake in Chinese tech titan Tencent.                   \n",
       "3  There is 'way more demand than is even available, so that’s good,' said the CEO of Euronext Amsterdam, Maurice van Tilburg.                                                                 \n",
       "4  'It’s going to be an interesting hour of trade after opening this morning.'                                                                                                                 \n",
       "5  Euronext had given an indicative price of 58.70 euros per share for Prosus, implying a market value of 95.3 billion euros ($105 billion).                                                   \n",
       "6  The shares jumped to 76 euros on opening and were trading at 75 euros at 0719 GMT.                                                                                                          \n",
       "\n",
       "                                    logit prediction  sentiment_score  \\\n",
       "0  [0.94092953, 0.020505346, 0.038565077]  positive   0.920424          \n",
       "1  [0.038308043, 0.009095702, 0.9525962]   neutral    0.029212          \n",
       "2  [0.08153229, 0.004831059, 0.9136367]    neutral    0.076701          \n",
       "3  [0.87810785, 0.012375466, 0.10951679]   positive   0.865732          \n",
       "4  [0.3788322, 0.020865673, 0.60030216]    neutral    0.357967          \n",
       "5  [0.13808328, 0.012395252, 0.84952146]   neutral    0.125688          \n",
       "6  [0.75047094, 0.01882578, 0.23070328]    positive   0.731645          \n",
       "\n",
       "   textblob_prediction  \n",
       "0  0.250000             \n",
       "1  0.000000             \n",
       "2  0.000000             \n",
       "3  0.533333             \n",
       "4  0.500000             \n",
       "5  0.000000             \n",
       "6  0.000000             "
      ]
     },
     "execution_count": 37,
     "metadata": {},
     "output_type": "execute_result"
    }
   ],
   "source": [
    "result2"
   ]
  },
  {
   "cell_type": "code",
   "execution_count": 38,
   "metadata": {
    "ExecuteTime": {
     "end_time": "2020-03-23T16:00:27.031491Z",
     "start_time": "2020-03-23T16:00:27.012639Z"
    }
   },
   "outputs": [
    {
     "name": "stdout",
     "output_type": "stream",
     "text": [
      "Average sentiment is 0.44.\n"
     ]
    }
   ],
   "source": [
    "print(f'Average sentiment is %.2f.' % (result2.sentiment_score.mean()))"
   ]
  },
  {
   "cell_type": "code",
   "execution_count": 67,
   "metadata": {},
   "outputs": [],
   "source": [
    "\n",
    "text3 = \"The hedge fund traders watched as a \\\n",
    "nightmare scenario played out in the world’s bonds markets.  \\\n",
    "From Australia to the U.K. to the U.S., government bond \\\n",
    "yields abruptly moved against them last week amid growing \\\n",
    "speculation that central banks will accelerate plans for raising \\\n",
    "interest rates in the face of persistent inflation. The losses \\\n",
    "piled up -- and for a few became so big that the firms halted \\\n",
    "some trading to contain the damage.  \\\n",
    "Balyasny Asset Management, BlueCrest Capital Management and \\\n",
    "ExodusPoint Capital Management each curtailed the betting of two \\\n",
    "to four traders after they hit maximum loss levels, according to \\\n",
    "people with knowledge of the matter, who asked not to be \\\n",
    "identified because the information is private. That step stopped \\\n",
    "traders from changing their positions, an extraordinary risk- \\\n",
    "management move used so firms can reassess trades or unwind \\\n",
    "them. \\\n",
    "ExodusPoint lost about $400 million last month, leaving it \\\n",
    "down 2% in October, people said. The fund is still up 2.8% year- \\\n",
    "to-date. \\\n",
    "Millennium Management also suffered amid the tumult and is \\\n",
    "continuing to monitor its macro portfolio managers’ trades, \\\n",
    "people said. Meanwhile, Point72 Asset Management’s macro \\\n",
    "business was said to see some losses from the bond-market moves. \\\n",
    "The hits show how even some of the most sophisticated \\\n",
    "traders have been caught flat-footed by the rapid shift in \\\n",
    "sentiment that has raced through markets. It’s unclear how much \\\n",
    "the losses will drag down the hedge funds’ returns, and they \\\n",
    "could be offset by the stock rally that’s driven the S&P 500 to \\\n",
    "new record highs. \\\n",
    "Representatives for the firms declined to comment.  \\\n",
    "Many hedge funds had been betting that central banks would \\\n",
    "be slow to raise interest rates, seeing the surge in consumer \\\n",
    "prices as a temporary side-effect of the pandemic.  \\\n",
    "But that view has been challenged as hawkish comments from \\\n",
    "the Bank of England cemented expectations for a rate hike, the \\\n",
    "Bank of Canada shut down its bond buying program and Australian \\\n",
    "policymakers abandoned a key short-term yield target. In the \\\n",
    "U.S., where the Federal Reserve is widely expected Wednesday to \\\n",
    "announce plans for winding down its bond purchases, markets are \\\n",
    "now pricing in two rate hikes by December 2022. \\\n",
    "That has upended trades betting that the gap between short- \\\n",
    "and long-term bond yields would widen, which would happen if \\\n",
    "markets expected growth and inflation to accelerate in the face \\\n",
    "of loose monetary policy. Instead, that gap narrowed. \\\n",
    "Read more: Bond Market Dares Fed to Defy It After Bloody \\\n",
    "Week for Investors \\\n",
    "In the U.S., the difference between two- and 10-year \\\n",
    "Treasury yields flattened by 13 basis points Wednesday, marking \\\n",
    "one of the biggest one-day moves in the yield curve of the past \\\n",
    "two decades, according to Cornerstone Macro’s estimates. That \\\n",
    "came as the two-year Treasury yield almost doubled last month to \\\n",
    "about 0.5%. An upward move hadn’t approached that degree since \\\n",
    "December 2009, when the two-year yield jumped to about 1.14% \\\n",
    "from 0.66%. \\\n",
    "The volatility this year has led to heavy losses for some \\\n",
    "of the best known macro traders in the world. Billionaire Chris \\\n",
    "Rokos’s hedge fund losses worsened to 20% through Oct. 22 this \\\n",
    "year, in part because of wagers that the yield curve would \\\n",
    "steepen in the U.K. and U.S. Alphadyne Asset Management, which \\\n",
    "has never had a down year since it started up in 2006, had lost \\\n",
    "13% during the period.  \\\n",
    "Another hedge fund that suffered heavy losses was interest- \\\n",
    "rate-focused Frost Asset Management, which slumped almost 18% \\\n",
    "last month largely due to the sharp rise in Swedish short-term \\\n",
    "interest rates and flatter yield curves, according to the fund’s \\\n",
    "backer Brummer & Partners AB.\"\n"
   ]
  },
  {
   "cell_type": "code",
   "execution_count": 68,
   "metadata": {},
   "outputs": [
    {
     "name": "stderr",
     "output_type": "stream",
     "text": [
      "11/03/2021 12:57:29 - INFO - finbert.utils -   *** Example ***\n",
      "11/03/2021 12:57:29 - INFO - finbert.utils -   guid: 0\n",
      "11/03/2021 12:57:29 - INFO - finbert.utils -   tokens: [CLS] the hedge fund traders watched as a nightmare scenario played out in the world ’ s bonds markets . [SEP]\n",
      "11/03/2021 12:57:29 - INFO - finbert.utils -   input_ids: 101 1996 17834 4636 13066 3427 2004 1037 10103 11967 2209 2041 1999 1996 2088 1521 1055 9547 6089 1012 102 0 0 0 0 0 0 0 0 0 0 0 0 0 0 0 0 0 0 0 0 0 0 0 0 0 0 0 0 0 0 0 0 0 0 0 0 0 0 0 0 0 0 0\n",
      "11/03/2021 12:57:29 - INFO - finbert.utils -   attention_mask: 1 1 1 1 1 1 1 1 1 1 1 1 1 1 1 1 1 1 1 1 1 0 0 0 0 0 0 0 0 0 0 0 0 0 0 0 0 0 0 0 0 0 0 0 0 0 0 0 0 0 0 0 0 0 0 0 0 0 0 0 0 0 0 0\n",
      "11/03/2021 12:57:29 - INFO - finbert.utils -   token_type_ids: 0 0 0 0 0 0 0 0 0 0 0 0 0 0 0 0 0 0 0 0 0 0 0 0 0 0 0 0 0 0 0 0 0 0 0 0 0 0 0 0 0 0 0 0 0 0 0 0 0 0 0 0 0 0 0 0 0 0 0 0 0 0 0 0\n",
      "11/03/2021 12:57:29 - INFO - finbert.utils -   label: None (id = 9090)\n",
      "11/03/2021 12:57:30 - INFO - root -   tensor([[-1.6258,  0.7363,  0.6659],\n",
      "        [-1.5529,  2.0737, -1.2149],\n",
      "        [-1.7682,  1.9440, -0.5809],\n",
      "        [-1.9150,  2.2365, -1.0041],\n",
      "        [-1.5267,  1.7490, -0.8250]])\n",
      "11/03/2021 12:57:30 - INFO - finbert.utils -   *** Example ***\n",
      "11/03/2021 12:57:30 - INFO - finbert.utils -   guid: 0\n",
      "11/03/2021 12:57:30 - INFO - finbert.utils -   tokens: [CLS] exodus ##point lost about $ 400 million last month , leaving it down 2 % in october , people said . [SEP]\n",
      "11/03/2021 12:57:30 - INFO - finbert.utils -   input_ids: 101 16388 8400 2439 2055 1002 4278 2454 2197 3204 1010 2975 2009 2091 1016 1003 1999 2255 1010 2111 2056 1012 102 0 0 0 0 0 0 0 0 0 0 0 0 0 0 0 0 0 0 0 0 0 0 0 0 0 0 0 0 0 0 0 0 0 0 0 0 0 0 0 0 0\n",
      "11/03/2021 12:57:30 - INFO - finbert.utils -   attention_mask: 1 1 1 1 1 1 1 1 1 1 1 1 1 1 1 1 1 1 1 1 1 1 1 0 0 0 0 0 0 0 0 0 0 0 0 0 0 0 0 0 0 0 0 0 0 0 0 0 0 0 0 0 0 0 0 0 0 0 0 0 0 0 0 0\n",
      "11/03/2021 12:57:30 - INFO - finbert.utils -   token_type_ids: 0 0 0 0 0 0 0 0 0 0 0 0 0 0 0 0 0 0 0 0 0 0 0 0 0 0 0 0 0 0 0 0 0 0 0 0 0 0 0 0 0 0 0 0 0 0 0 0 0 0 0 0 0 0 0 0 0 0 0 0 0 0 0 0\n",
      "11/03/2021 12:57:30 - INFO - finbert.utils -   label: None (id = 9090)\n",
      "11/03/2021 12:57:30 - INFO - root -   tensor([[-1.9036,  2.6690, -1.5279],\n",
      "        [ 2.5880, -1.2983, -0.7587],\n",
      "        [-1.9341,  2.4476, -1.3447],\n",
      "        [-1.6643,  2.7687, -1.6516],\n",
      "        [-1.0460, -0.3347,  0.5994]])\n",
      "11/03/2021 12:57:30 - INFO - finbert.utils -   *** Example ***\n",
      "11/03/2021 12:57:30 - INFO - finbert.utils -   guid: 0\n",
      "11/03/2021 12:57:30 - INFO - finbert.utils -   tokens: [CLS] it ’ s unclear how much the losses will drag down the hedge funds ’ returns , and they could be offset by the stock rally that ’ s driven the s & p 500 to new record highs . [SEP]\n",
      "11/03/2021 12:57:30 - INFO - finbert.utils -   input_ids: 101 2009 1521 1055 10599 2129 2172 1996 6409 2097 8011 2091 1996 17834 5029 1521 5651 1010 1998 2027 2071 2022 16396 2011 1996 4518 8320 2008 1521 1055 5533 1996 1055 1004 1052 3156 2000 2047 2501 26836 1012 102 0 0 0 0 0 0 0 0 0 0 0 0 0 0 0 0 0 0 0 0 0 0\n",
      "11/03/2021 12:57:30 - INFO - finbert.utils -   attention_mask: 1 1 1 1 1 1 1 1 1 1 1 1 1 1 1 1 1 1 1 1 1 1 1 1 1 1 1 1 1 1 1 1 1 1 1 1 1 1 1 1 1 1 0 0 0 0 0 0 0 0 0 0 0 0 0 0 0 0 0 0 0 0 0 0\n",
      "11/03/2021 12:57:30 - INFO - finbert.utils -   token_type_ids: 0 0 0 0 0 0 0 0 0 0 0 0 0 0 0 0 0 0 0 0 0 0 0 0 0 0 0 0 0 0 0 0 0 0 0 0 0 0 0 0 0 0 0 0 0 0 0 0 0 0 0 0 0 0 0 0 0 0 0 0 0 0 0 0\n",
      "11/03/2021 12:57:30 - INFO - finbert.utils -   label: None (id = 9090)\n",
      "11/03/2021 12:57:30 - INFO - root -   tensor([[-1.3748,  1.8157, -1.0374],\n",
      "        [-1.3809,  0.0651,  1.4611],\n",
      "        [-1.4895,  1.4146, -0.4720],\n",
      "        [-1.7154,  2.3609, -1.4006],\n",
      "        [-0.4564, -0.5626,  0.2501]])\n",
      "11/03/2021 12:57:30 - INFO - finbert.utils -   *** Example ***\n",
      "11/03/2021 12:57:30 - INFO - finbert.utils -   guid: 0\n",
      "11/03/2021 12:57:30 - INFO - finbert.utils -   tokens: [CLS] that has up ##ended trades betting that the gap between short - and long - term bond yields would widen , which would happen if markets expected growth and inflation to accelerate in the face of loose monetary policy . [SEP]\n",
      "11/03/2021 12:57:30 - INFO - finbert.utils -   input_ids: 101 2008 2038 2039 21945 14279 19244 2008 1996 6578 2090 2460 1011 1998 2146 1011 2744 5416 16189 2052 21255 1010 2029 2052 4148 2065 6089 3517 3930 1998 14200 2000 23306 1999 1996 2227 1997 6065 12194 3343 1012 102 0 0 0 0 0 0 0 0 0 0 0 0 0 0 0 0 0 0 0 0 0 0\n",
      "11/03/2021 12:57:30 - INFO - finbert.utils -   attention_mask: 1 1 1 1 1 1 1 1 1 1 1 1 1 1 1 1 1 1 1 1 1 1 1 1 1 1 1 1 1 1 1 1 1 1 1 1 1 1 1 1 1 1 0 0 0 0 0 0 0 0 0 0 0 0 0 0 0 0 0 0 0 0 0 0\n",
      "11/03/2021 12:57:30 - INFO - finbert.utils -   token_type_ids: 0 0 0 0 0 0 0 0 0 0 0 0 0 0 0 0 0 0 0 0 0 0 0 0 0 0 0 0 0 0 0 0 0 0 0 0 0 0 0 0 0 0 0 0 0 0 0 0 0 0 0 0 0 0 0 0 0 0 0 0 0 0 0 0\n",
      "11/03/2021 12:57:30 - INFO - finbert.utils -   label: None (id = 9090)\n",
      "11/03/2021 12:57:30 - INFO - root -   tensor([[-0.1257,  0.6122, -1.3692],\n",
      "        [ 0.1428, -0.0080, -0.6840],\n",
      "        [-0.8097,  1.4704, -1.2821],\n",
      "        [ 1.8273, -1.0341, -0.8078],\n",
      "        [ 2.1666, -0.8122, -1.2021]])\n",
      "11/03/2021 12:57:30 - INFO - finbert.utils -   *** Example ***\n",
      "11/03/2021 12:57:30 - INFO - finbert.utils -   guid: 0\n",
      "11/03/2021 12:57:30 - INFO - finbert.utils -   tokens: [CLS] the vol ##ati ##lity this year has led to heavy losses for some of the best known macro traders in the world . [SEP]\n",
      "11/03/2021 12:57:30 - INFO - finbert.utils -   input_ids: 101 1996 5285 10450 18605 2023 2095 2038 2419 2000 3082 6409 2005 2070 1997 1996 2190 2124 26632 13066 1999 1996 2088 1012 102 0 0 0 0 0 0 0 0 0 0 0 0 0 0 0 0 0 0 0 0 0 0 0 0 0 0 0 0 0 0 0 0 0 0 0 0 0 0 0\n",
      "11/03/2021 12:57:30 - INFO - finbert.utils -   attention_mask: 1 1 1 1 1 1 1 1 1 1 1 1 1 1 1 1 1 1 1 1 1 1 1 1 1 0 0 0 0 0 0 0 0 0 0 0 0 0 0 0 0 0 0 0 0 0 0 0 0 0 0 0 0 0 0 0 0 0 0 0 0 0 0 0\n",
      "11/03/2021 12:57:30 - INFO - finbert.utils -   token_type_ids: 0 0 0 0 0 0 0 0 0 0 0 0 0 0 0 0 0 0 0 0 0 0 0 0 0 0 0 0 0 0 0 0 0 0 0 0 0 0 0 0 0 0 0 0 0 0 0 0 0 0 0 0 0 0 0 0 0 0 0 0 0 0 0 0\n",
      "11/03/2021 12:57:30 - INFO - finbert.utils -   label: None (id = 9090)\n",
      "11/03/2021 12:57:30 - INFO - root -   tensor([[-1.8678,  2.4926, -1.2050],\n",
      "        [-1.5063,  2.6221, -1.7263],\n",
      "        [-1.8215,  2.8664, -1.6552]])\n"
     ]
    }
   ],
   "source": [
    "#text3 = text3.replace('\\n',' ')\n",
    "result3 = predict(text3,model)\n",
    "blob = TextBlob(text3)\n",
    "result3['textblob_prediction'] = [sentence.sentiment.polarity for sentence in blob.sentences]"
   ]
  },
  {
   "cell_type": "code",
   "execution_count": 69,
   "metadata": {
    "scrolled": false
   },
   "outputs": [
    {
     "data": {
      "text/html": [
       "<div>\n",
       "<style scoped>\n",
       "    .dataframe tbody tr th:only-of-type {\n",
       "        vertical-align: middle;\n",
       "    }\n",
       "\n",
       "    .dataframe tbody tr th {\n",
       "        vertical-align: top;\n",
       "    }\n",
       "\n",
       "    .dataframe thead th {\n",
       "        text-align: right;\n",
       "    }\n",
       "</style>\n",
       "<table border=\"1\" class=\"dataframe\">\n",
       "  <thead>\n",
       "    <tr style=\"text-align: right;\">\n",
       "      <th></th>\n",
       "      <th>sentence</th>\n",
       "      <th>logit</th>\n",
       "      <th>prediction</th>\n",
       "      <th>sentiment_score</th>\n",
       "      <th>textblob_prediction</th>\n",
       "    </tr>\n",
       "  </thead>\n",
       "  <tbody>\n",
       "    <tr>\n",
       "      <th>0</th>\n",
       "      <td>The hedge fund traders watched as a nightmare scenario played out in the world’s bonds markets.</td>\n",
       "      <td>[0.0464989, 0.49354315, 0.459958]</td>\n",
       "      <td>negative</td>\n",
       "      <td>-0.447044</td>\n",
       "      <td>0.000000</td>\n",
       "    </tr>\n",
       "    <tr>\n",
       "      <th>1</th>\n",
       "      <td>From Australia to the U.K. to the U.S., government bond yields abruptly moved against them last week amid growing speculation that central banks will accelerate plans for raising interest rates in the face of persistent inflation.</td>\n",
       "      <td>[0.025008673, 0.93992627, 0.035065096]</td>\n",
       "      <td>negative</td>\n",
       "      <td>-0.914918</td>\n",
       "      <td>-0.041667</td>\n",
       "    </tr>\n",
       "    <tr>\n",
       "      <th>2</th>\n",
       "      <td>The losses piled up -- and for a few became so big that the firms halted some trading to contain the damage.</td>\n",
       "      <td>[0.022111846, 0.90540147, 0.07248663]</td>\n",
       "      <td>negative</td>\n",
       "      <td>-0.883290</td>\n",
       "      <td>-0.100000</td>\n",
       "    </tr>\n",
       "    <tr>\n",
       "      <th>3</th>\n",
       "      <td>Balyasny Asset Management, BlueCrest Capital Management and ExodusPoint Capital Management each curtailed the betting of two to four traders after they hit maximum loss levels, according to people with knowledge of the matter, who asked not to be identified because the information is private.</td>\n",
       "      <td>[0.014922736, 0.9479704, 0.03710679]</td>\n",
       "      <td>negative</td>\n",
       "      <td>-0.933048</td>\n",
       "      <td>0.000000</td>\n",
       "    </tr>\n",
       "    <tr>\n",
       "      <th>4</th>\n",
       "      <td>That step stopped traders from changing their positions, an extraordinary risk- management move used so firms can reassess trades or unwind them.</td>\n",
       "      <td>[0.03392205, 0.8976471, 0.06843089]</td>\n",
       "      <td>negative</td>\n",
       "      <td>-0.863725</td>\n",
       "      <td>0.333333</td>\n",
       "    </tr>\n",
       "    <tr>\n",
       "      <th>5</th>\n",
       "      <td>ExodusPoint lost about $400 million last month, leaving it down 2% in October, people said.</td>\n",
       "      <td>[0.010075274, 0.975255, 0.014669772]</td>\n",
       "      <td>negative</td>\n",
       "      <td>-0.965180</td>\n",
       "      <td>-0.077778</td>\n",
       "    </tr>\n",
       "    <tr>\n",
       "      <th>6</th>\n",
       "      <td>The fund is still up 2.8% year- to-date.</td>\n",
       "      <td>[0.94722074, 0.019436982, 0.03334233]</td>\n",
       "      <td>positive</td>\n",
       "      <td>0.927784</td>\n",
       "      <td>0.000000</td>\n",
       "    </tr>\n",
       "    <tr>\n",
       "      <th>7</th>\n",
       "      <td>Millennium Management also suffered amid the tumult and is continuing to monitor its macro portfolio managers’ trades, people said.</td>\n",
       "      <td>[0.012079769, 0.96614057, 0.021779673]</td>\n",
       "      <td>negative</td>\n",
       "      <td>-0.954061</td>\n",
       "      <td>0.000000</td>\n",
       "    </tr>\n",
       "    <tr>\n",
       "      <th>8</th>\n",
       "      <td>Meanwhile, Point72 Asset Management’s macro business was said to see some losses from the bond-market moves.</td>\n",
       "      <td>[0.011601372, 0.9766499, 0.011748804]</td>\n",
       "      <td>negative</td>\n",
       "      <td>-0.965048</td>\n",
       "      <td>0.000000</td>\n",
       "    </tr>\n",
       "    <tr>\n",
       "      <th>9</th>\n",
       "      <td>The hits show how even some of the most sophisticated traders have been caught flat-footed by the rapid shift in sentiment that has raced through markets.</td>\n",
       "      <td>[0.12166649, 0.24778539, 0.6305481]</td>\n",
       "      <td>neutral</td>\n",
       "      <td>-0.126119</td>\n",
       "      <td>0.500000</td>\n",
       "    </tr>\n",
       "    <tr>\n",
       "      <th>10</th>\n",
       "      <td>It’s unclear how much the losses will drag down the hedge funds’ returns, and they could be offset by the stock rally that’s driven the S&amp;P 500 to new record highs.</td>\n",
       "      <td>[0.037451137, 0.9100668, 0.05248202]</td>\n",
       "      <td>negative</td>\n",
       "      <td>-0.872616</td>\n",
       "      <td>0.020202</td>\n",
       "    </tr>\n",
       "    <tr>\n",
       "      <th>11</th>\n",
       "      <td>Representatives for the firms declined to comment.</td>\n",
       "      <td>[0.044651993, 0.18959084, 0.7657572]</td>\n",
       "      <td>neutral</td>\n",
       "      <td>-0.144939</td>\n",
       "      <td>0.000000</td>\n",
       "    </tr>\n",
       "    <tr>\n",
       "      <th>12</th>\n",
       "      <td>Many hedge funds had been betting that central banks would be slow to raise interest rates, seeing the surge in consumer prices as a temporary side-effect of the pandemic.</td>\n",
       "      <td>[0.045422304, 0.828928, 0.12564965]</td>\n",
       "      <td>negative</td>\n",
       "      <td>-0.783506</td>\n",
       "      <td>0.066667</td>\n",
       "    </tr>\n",
       "    <tr>\n",
       "      <th>13</th>\n",
       "      <td>But that view has been challenged as hawkish comments from the Bank of England cemented expectations for a rate hike, the Bank of Canada shut down its bond buying program and Australian policymakers abandoned a key short-term yield target.</td>\n",
       "      <td>[0.016314639, 0.9613345, 0.022350796]</td>\n",
       "      <td>negative</td>\n",
       "      <td>-0.945020</td>\n",
       "      <td>-0.051852</td>\n",
       "    </tr>\n",
       "    <tr>\n",
       "      <th>14</th>\n",
       "      <td>In the U.S., where the Federal Reserve is widely expected Wednesday to announce plans for winding down its bond purchases, markets are now pricing in two rate hikes by December 2022.</td>\n",
       "      <td>[0.2547026, 0.22903726, 0.51626015]</td>\n",
       "      <td>neutral</td>\n",
       "      <td>0.025665</td>\n",
       "      <td>-0.127778</td>\n",
       "    </tr>\n",
       "    <tr>\n",
       "      <th>15</th>\n",
       "      <td>That has upended trades betting that the gap between short- and long-term bond yields would widen, which would happen if markets expected growth and inflation to accelerate in the face of loose monetary policy.</td>\n",
       "      <td>[0.2958594, 0.61882323, 0.08531738]</td>\n",
       "      <td>negative</td>\n",
       "      <td>-0.322964</td>\n",
       "      <td>-0.058974</td>\n",
       "    </tr>\n",
       "    <tr>\n",
       "      <th>16</th>\n",
       "      <td>Instead, that gap narrowed.</td>\n",
       "      <td>[0.43525222, 0.37434056, 0.19040723]</td>\n",
       "      <td>positive</td>\n",
       "      <td>0.060912</td>\n",
       "      <td>0.000000</td>\n",
       "    </tr>\n",
       "    <tr>\n",
       "      <th>17</th>\n",
       "      <td>Read more: Bond Market Dares Fed to Defy It After Bloody Week for Investors In the U.S., the difference between two- and 10-year Treasury yields flattened by 13 basis points Wednesday, marking one of the biggest one-day moves in the yield curve of the past two decades, according to Cornerstone Macro’s estimates.</td>\n",
       "      <td>[0.08771113, 0.857603, 0.054685827]</td>\n",
       "      <td>negative</td>\n",
       "      <td>-0.769892</td>\n",
       "      <td>-0.183333</td>\n",
       "    </tr>\n",
       "    <tr>\n",
       "      <th>18</th>\n",
       "      <td>That came as the two-year Treasury yield almost doubled last month to about 0.5%.</td>\n",
       "      <td>[0.88581485, 0.050661582, 0.06352356]</td>\n",
       "      <td>positive</td>\n",
       "      <td>0.835153</td>\n",
       "      <td>0.000000</td>\n",
       "    </tr>\n",
       "    <tr>\n",
       "      <th>19</th>\n",
       "      <td>An upward move hadn’t approached that degree since December 2009, when the two-year yield jumped to about 1.14% from 0.66%.</td>\n",
       "      <td>[0.9214183, 0.046855673, 0.031726025]</td>\n",
       "      <td>positive</td>\n",
       "      <td>0.874563</td>\n",
       "      <td>0.000000</td>\n",
       "    </tr>\n",
       "    <tr>\n",
       "      <th>20</th>\n",
       "      <td>The volatility this year has led to heavy losses for some of the best known macro traders in the world.</td>\n",
       "      <td>[0.012311346, 0.9638037, 0.0238849]</td>\n",
       "      <td>negative</td>\n",
       "      <td>-0.951492</td>\n",
       "      <td>0.400000</td>\n",
       "    </tr>\n",
       "    <tr>\n",
       "      <th>21</th>\n",
       "      <td>Billionaire Chris Rokos’s hedge fund losses worsened to 20% through Oct. 22 this year, in part because of wagers that the yield curve would steepen in the U.K. and U.S. Alphadyne Asset Management, which has never had a down year since it started up in 2006, had lost 13% during the period.</td>\n",
       "      <td>[0.015653485, 0.97178394, 0.012562542]</td>\n",
       "      <td>negative</td>\n",
       "      <td>-0.956130</td>\n",
       "      <td>-0.155556</td>\n",
       "    </tr>\n",
       "    <tr>\n",
       "      <th>22</th>\n",
       "      <td>Another hedge fund that suffered heavy losses was interest- rate-focused Frost Asset Management, which slumped almost 18% last month largely due to the sharp rise in Swedish short-term interest rates and flatter yield curves, according to the fund’s backer Brummer &amp; Partners AB.</td>\n",
       "      <td>[0.009024677, 0.9803185, 0.010656906]</td>\n",
       "      <td>negative</td>\n",
       "      <td>-0.971294</td>\n",
       "      <td>-0.112500</td>\n",
       "    </tr>\n",
       "  </tbody>\n",
       "</table>\n",
       "</div>"
      ],
      "text/plain": [
       "                                                                                                                                                                                                                                                                                                                     sentence  \\\n",
       "0   The hedge fund traders watched as a nightmare scenario played out in the world’s bonds markets.                                                                                                                                                                                                                             \n",
       "1   From Australia to the U.K. to the U.S., government bond yields abruptly moved against them last week amid growing speculation that central banks will accelerate plans for raising interest rates in the face of persistent inflation.                                                                                      \n",
       "2   The losses piled up -- and for a few became so big that the firms halted some trading to contain the damage.                                                                                                                                                                                                                \n",
       "3   Balyasny Asset Management, BlueCrest Capital Management and ExodusPoint Capital Management each curtailed the betting of two to four traders after they hit maximum loss levels, according to people with knowledge of the matter, who asked not to be identified because the information is private.                       \n",
       "4   That step stopped traders from changing their positions, an extraordinary risk- management move used so firms can reassess trades or unwind them.                                                                                                                                                                           \n",
       "5   ExodusPoint lost about $400 million last month, leaving it down 2% in October, people said.                                                                                                                                                                                                                                 \n",
       "6   The fund is still up 2.8% year- to-date.                                                                                                                                                                                                                                                                                    \n",
       "7   Millennium Management also suffered amid the tumult and is continuing to monitor its macro portfolio managers’ trades, people said.                                                                                                                                                                                         \n",
       "8   Meanwhile, Point72 Asset Management’s macro business was said to see some losses from the bond-market moves.                                                                                                                                                                                                                \n",
       "9   The hits show how even some of the most sophisticated traders have been caught flat-footed by the rapid shift in sentiment that has raced through markets.                                                                                                                                                                  \n",
       "10  It’s unclear how much the losses will drag down the hedge funds’ returns, and they could be offset by the stock rally that’s driven the S&P 500 to new record highs.                                                                                                                                                        \n",
       "11  Representatives for the firms declined to comment.                                                                                                                                                                                                                                                                          \n",
       "12  Many hedge funds had been betting that central banks would be slow to raise interest rates, seeing the surge in consumer prices as a temporary side-effect of the pandemic.                                                                                                                                                 \n",
       "13  But that view has been challenged as hawkish comments from the Bank of England cemented expectations for a rate hike, the Bank of Canada shut down its bond buying program and Australian policymakers abandoned a key short-term yield target.                                                                             \n",
       "14  In the U.S., where the Federal Reserve is widely expected Wednesday to announce plans for winding down its bond purchases, markets are now pricing in two rate hikes by December 2022.                                                                                                                                      \n",
       "15  That has upended trades betting that the gap between short- and long-term bond yields would widen, which would happen if markets expected growth and inflation to accelerate in the face of loose monetary policy.                                                                                                          \n",
       "16  Instead, that gap narrowed.                                                                                                                                                                                                                                                                                                 \n",
       "17  Read more: Bond Market Dares Fed to Defy It After Bloody Week for Investors In the U.S., the difference between two- and 10-year Treasury yields flattened by 13 basis points Wednesday, marking one of the biggest one-day moves in the yield curve of the past two decades, according to Cornerstone Macro’s estimates.   \n",
       "18  That came as the two-year Treasury yield almost doubled last month to about 0.5%.                                                                                                                                                                                                                                           \n",
       "19  An upward move hadn’t approached that degree since December 2009, when the two-year yield jumped to about 1.14% from 0.66%.                                                                                                                                                                                                 \n",
       "20  The volatility this year has led to heavy losses for some of the best known macro traders in the world.                                                                                                                                                                                                                     \n",
       "21  Billionaire Chris Rokos’s hedge fund losses worsened to 20% through Oct. 22 this year, in part because of wagers that the yield curve would steepen in the U.K. and U.S. Alphadyne Asset Management, which has never had a down year since it started up in 2006, had lost 13% during the period.                           \n",
       "22  Another hedge fund that suffered heavy losses was interest- rate-focused Frost Asset Management, which slumped almost 18% last month largely due to the sharp rise in Swedish short-term interest rates and flatter yield curves, according to the fund’s backer Brummer & Partners AB.                                     \n",
       "\n",
       "                                     logit prediction  sentiment_score  \\\n",
       "0   [0.0464989, 0.49354315, 0.459958]       negative  -0.447044          \n",
       "1   [0.025008673, 0.93992627, 0.035065096]  negative  -0.914918          \n",
       "2   [0.022111846, 0.90540147, 0.07248663]   negative  -0.883290          \n",
       "3   [0.014922736, 0.9479704, 0.03710679]    negative  -0.933048          \n",
       "4   [0.03392205, 0.8976471, 0.06843089]     negative  -0.863725          \n",
       "5   [0.010075274, 0.975255, 0.014669772]    negative  -0.965180          \n",
       "6   [0.94722074, 0.019436982, 0.03334233]   positive   0.927784          \n",
       "7   [0.012079769, 0.96614057, 0.021779673]  negative  -0.954061          \n",
       "8   [0.011601372, 0.9766499, 0.011748804]   negative  -0.965048          \n",
       "9   [0.12166649, 0.24778539, 0.6305481]     neutral   -0.126119          \n",
       "10  [0.037451137, 0.9100668, 0.05248202]    negative  -0.872616          \n",
       "11  [0.044651993, 0.18959084, 0.7657572]    neutral   -0.144939          \n",
       "12  [0.045422304, 0.828928, 0.12564965]     negative  -0.783506          \n",
       "13  [0.016314639, 0.9613345, 0.022350796]   negative  -0.945020          \n",
       "14  [0.2547026, 0.22903726, 0.51626015]     neutral    0.025665          \n",
       "15  [0.2958594, 0.61882323, 0.08531738]     negative  -0.322964          \n",
       "16  [0.43525222, 0.37434056, 0.19040723]    positive   0.060912          \n",
       "17  [0.08771113, 0.857603, 0.054685827]     negative  -0.769892          \n",
       "18  [0.88581485, 0.050661582, 0.06352356]   positive   0.835153          \n",
       "19  [0.9214183, 0.046855673, 0.031726025]   positive   0.874563          \n",
       "20  [0.012311346, 0.9638037, 0.0238849]     negative  -0.951492          \n",
       "21  [0.015653485, 0.97178394, 0.012562542]  negative  -0.956130          \n",
       "22  [0.009024677, 0.9803185, 0.010656906]   negative  -0.971294          \n",
       "\n",
       "    textblob_prediction  \n",
       "0   0.000000             \n",
       "1  -0.041667             \n",
       "2  -0.100000             \n",
       "3   0.000000             \n",
       "4   0.333333             \n",
       "5  -0.077778             \n",
       "6   0.000000             \n",
       "7   0.000000             \n",
       "8   0.000000             \n",
       "9   0.500000             \n",
       "10  0.020202             \n",
       "11  0.000000             \n",
       "12  0.066667             \n",
       "13 -0.051852             \n",
       "14 -0.127778             \n",
       "15 -0.058974             \n",
       "16  0.000000             \n",
       "17 -0.183333             \n",
       "18  0.000000             \n",
       "19  0.000000             \n",
       "20  0.400000             \n",
       "21 -0.155556             \n",
       "22 -0.112500             "
      ]
     },
     "execution_count": 69,
     "metadata": {},
     "output_type": "execute_result"
    }
   ],
   "source": [
    "result3"
   ]
  },
  {
   "cell_type": "code",
   "execution_count": 70,
   "metadata": {},
   "outputs": [
    {
     "name": "stdout",
     "output_type": "stream",
     "text": [
      "Average sentiment is -0.48.\n"
     ]
    }
   ],
   "source": [
    "print(f'Average sentiment is %.2f.' % (result3.sentiment_score.mean()))"
   ]
  },
  {
   "cell_type": "code",
   "execution_count": null,
   "metadata": {},
   "outputs": [],
   "source": []
  }
 ],
 "metadata": {
  "kernelspec": {
   "display_name": "Python 3",
   "language": "python",
   "name": "python3"
  },
  "language_info": {
   "codemirror_mode": {
    "name": "ipython",
    "version": 3
   },
   "file_extension": ".py",
   "mimetype": "text/x-python",
   "name": "python",
   "nbconvert_exporter": "python",
   "pygments_lexer": "ipython3",
   "version": "3.7.3"
  },
  "pycharm": {
   "stem_cell": {
    "cell_type": "raw",
    "metadata": {
     "collapsed": false
    },
    "source": []
   }
  },
  "toc": {
   "base_numbering": 1,
   "nav_menu": {},
   "number_sections": true,
   "sideBar": true,
   "skip_h1_title": true,
   "title_cell": "Table of Contents",
   "title_sidebar": "Contents",
   "toc_cell": false,
   "toc_position": {},
   "toc_section_display": true,
   "toc_window_display": true
  }
 },
 "nbformat": 4,
 "nbformat_minor": 2
}
