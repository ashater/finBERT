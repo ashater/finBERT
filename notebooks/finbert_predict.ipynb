{
 "cells": [
  {
   "cell_type": "markdown",
   "metadata": {},
   "source": [
    "# FinBERT Example Notebook\n",
    "\n",
    "This notebooks shows how to train and use the FinBERT pre-trained language model for financial sentiment analysis."
   ]
  },
  {
   "cell_type": "markdown",
   "metadata": {},
   "source": [
    "## Modules "
   ]
  },
  {
   "cell_type": "code",
   "execution_count": 1,
   "metadata": {
    "ExecuteTime": {
     "end_time": "2020-03-23T15:55:04.902740Z",
     "start_time": "2020-03-23T15:55:04.876252Z"
    }
   },
   "outputs": [],
   "source": [
    "from pathlib import Path\n",
    "import shutil\n",
    "import os\n",
    "import logging\n",
    "import sys\n",
    "sys.path.append('..')\n",
    "\n",
    "from textblob import TextBlob\n",
    "from pprint import pprint\n",
    "from sklearn.metrics import classification_report\n",
    "\n",
    "from transformers import AutoModelForSequenceClassification\n",
    "\n",
    "from finbert.finbert import *\n",
    "import finbert.utils as tools\n",
    "\n",
    "%load_ext autoreload\n",
    "%autoreload 2\n",
    "\n",
    "project_dir = Path.cwd().parent\n",
    "pd.set_option('max_colwidth', -1)"
   ]
  },
  {
   "cell_type": "code",
   "execution_count": 2,
   "metadata": {
    "ExecuteTime": {
     "end_time": "2020-03-23T15:55:05.711210Z",
     "start_time": "2020-03-23T15:55:05.693609Z"
    }
   },
   "outputs": [],
   "source": [
    "logging.basicConfig(format = '%(asctime)s - %(levelname)s - %(name)s -   %(message)s',\n",
    "                    datefmt = '%m/%d/%Y %H:%M:%S',\n",
    "                    level = logging.ERROR)"
   ]
  },
  {
   "cell_type": "markdown",
   "metadata": {},
   "source": [
    "## Prepare the model"
   ]
  },
  {
   "cell_type": "markdown",
   "metadata": {},
   "source": [
    "### Setting path variables:\n",
    "1. `lm_path`: the path for the pre-trained language model (If vanilla Bert is used then no need to set this one).\n",
    "2. `cl_path`: the path where the classification model is saved.\n",
    "3. `cl_data_path`: the path of the directory that contains the data files of `train.csv`, `validation.csv`, `test.csv`.\n",
    "---\n",
    "\n",
    "In the initialization of `bertmodel`, we can either use the original pre-trained weights from Google by giving `bm = 'bert-base-uncased`, or our further pre-trained language model by `bm = lm_path`\n",
    "\n",
    "\n",
    "---\n",
    "All of the configurations with the model is controlled with the `config` variable. "
   ]
  },
  {
   "cell_type": "code",
   "execution_count": 19,
   "metadata": {
    "ExecuteTime": {
     "end_time": "2020-03-23T15:55:07.405597Z",
     "start_time": "2020-03-23T15:55:07.386378Z"
    }
   },
   "outputs": [],
   "source": [
    "lm_path = project_dir/'models'/'language_model'/'HF'\n",
    "cl_path = project_dir/'models'/'classifier_model'/'finbert-sentiment-ari'\n",
    "cl_data_path = project_dir/'data'/'sentiment_data'"
   ]
  },
  {
   "cell_type": "markdown",
   "metadata": {},
   "source": [
    "### Get predictions"
   ]
  },
  {
   "cell_type": "markdown",
   "metadata": {},
   "source": [
    "With the `predict` function, given a piece of text, we split it into a list of sentences and then predict sentiment for each sentence. The output is written into a dataframe. Predictions are represented in three different columns: \n",
    "\n",
    "1) `logit`: probabilities for each class\n",
    "\n",
    "2) `prediction`: predicted label\n",
    "\n",
    "3) `sentiment_score`: sentiment score calculated as: probability of positive - probability of negative\n",
    "\n",
    "Below we analyze a paragraph taken out of [this](https://www.economist.com/finance-and-economics/2019/01/03/a-profit-warning-from-apple-jolts-markets) article from The Economist. For comparison purposes, we also put the sentiments predicted with TextBlob.\n",
    "> Later that day Apple said it was revising down its earnings expectations in the fourth quarter of 2018, largely because of lower sales and signs of economic weakness in China. The news rapidly infected financial markets. Apple’s share price fell by around 7% in after-hours trading and the decline was extended to more than 10% when the market opened. The dollar fell by 3.7% against the yen in a matter of minutes after the announcement, before rapidly recovering some ground. Asian stockmarkets closed down on January 3rd and European ones opened lower. Yields on government bonds fell as investors fled to the traditional haven in a market storm."
   ]
  },
  {
   "cell_type": "code",
   "execution_count": 20,
   "metadata": {
    "ExecuteTime": {
     "end_time": "2020-03-23T15:59:03.875213Z",
     "start_time": "2020-03-23T15:59:03.857612Z"
    }
   },
   "outputs": [],
   "source": [
    "text = \"Later that day Apple said it was revising down its earnings expectations in \\\n",
    "the fourth quarter of 2018, largely because of lower sales and signs of economic weakness in China. \\\n",
    "The news rapidly infected financial markets. Apple’s share price fell by around 7% in after-hours \\\n",
    "trading and the decline was extended to more than 10% when the market opened. The dollar fell \\\n",
    "by 3.7% against the yen in a matter of minutes after the announcement, before rapidly recovering \\\n",
    "some ground. Asian stockmarkets closed down on January 3rd and European ones opened lower. \\\n",
    "Yields on government bonds fell as investors fled to the traditional haven in a market storm.\""
   ]
  },
  {
   "cell_type": "code",
   "execution_count": 79,
   "metadata": {
    "ExecuteTime": {
     "end_time": "2020-03-23T15:59:16.246963Z",
     "start_time": "2020-03-23T15:59:13.285393Z"
    },
    "scrolled": true
   },
   "outputs": [],
   "source": [
    "cl_path = project_dir/'models'/'sentiment'/'finbert-sentiment_20211104'\n",
    "model = AutoModelForSequenceClassification.from_pretrained(cl_path, cache_dir=None, num_labels=3)"
   ]
  },
  {
   "cell_type": "code",
   "execution_count": 72,
   "metadata": {},
   "outputs": [
    {
     "name": "stderr",
     "output_type": "stream",
     "text": [
      "[nltk_data] Downloading package punkt to C:\\Users\\Ari\n",
      "[nltk_data]     Shater\\AppData\\Roaming\\nltk_data...\n",
      "[nltk_data]   Package punkt is already up-to-date!\n"
     ]
    },
    {
     "data": {
      "text/plain": [
       "True"
      ]
     },
     "execution_count": 72,
     "metadata": {},
     "output_type": "execute_result"
    }
   ],
   "source": [
    "import nltk\n",
    "nltk.download('punkt')"
   ]
  },
  {
   "cell_type": "code",
   "execution_count": 80,
   "metadata": {
    "ExecuteTime": {
     "end_time": "2020-03-23T15:59:19.531663Z",
     "start_time": "2020-03-23T15:59:17.744984Z"
    },
    "scrolled": true
   },
   "outputs": [
    {
     "name": "stderr",
     "output_type": "stream",
     "text": [
      "11/04/2021 11:16:35 - INFO - finbert.utils -   *** Example ***\n",
      "11/04/2021 11:16:35 - INFO - finbert.utils -   guid: 0\n",
      "11/04/2021 11:16:35 - INFO - finbert.utils -   tokens: [CLS] later that day apple said it was rev ##ising down its earnings expectations in the fourth quarter of 2018 , largely because of lower sales and signs of economic weakness in china . [SEP]\n",
      "11/04/2021 11:16:35 - INFO - finbert.utils -   input_ids: 101 2101 2008 2154 6207 2056 2009 2001 7065 9355 2091 2049 16565 10908 1999 1996 2959 4284 1997 2760 1010 4321 2138 1997 2896 4341 1998 5751 1997 3171 11251 1999 2859 1012 102 0 0 0 0 0 0 0 0 0 0 0 0 0 0 0 0 0 0 0 0 0 0 0 0 0 0 0 0 0\n",
      "11/04/2021 11:16:35 - INFO - finbert.utils -   attention_mask: 1 1 1 1 1 1 1 1 1 1 1 1 1 1 1 1 1 1 1 1 1 1 1 1 1 1 1 1 1 1 1 1 1 1 1 0 0 0 0 0 0 0 0 0 0 0 0 0 0 0 0 0 0 0 0 0 0 0 0 0 0 0 0 0\n",
      "11/04/2021 11:16:35 - INFO - finbert.utils -   token_type_ids: 0 0 0 0 0 0 0 0 0 0 0 0 0 0 0 0 0 0 0 0 0 0 0 0 0 0 0 0 0 0 0 0 0 0 0 0 0 0 0 0 0 0 0 0 0 0 0 0 0 0 0 0 0 0 0 0 0 0 0 0 0 0 0 0\n",
      "11/04/2021 11:16:35 - INFO - finbert.utils -   label: None (id = 9090)\n",
      "11/04/2021 11:16:35 - INFO - root -   tensor([[-2.1440,  3.5471, -1.1624],\n",
      "        [-1.9814,  2.7339, -0.9699],\n",
      "        [-2.1238,  3.8020, -1.2807],\n",
      "        [-1.4100,  3.5044, -1.7559],\n",
      "        [-2.8394,  2.6296,  0.1914]])\n",
      "11/04/2021 11:16:35 - INFO - finbert.utils -   *** Example ***\n",
      "11/04/2021 11:16:35 - INFO - finbert.utils -   guid: 0\n",
      "11/04/2021 11:16:35 - INFO - finbert.utils -   tokens: [CLS] yields on government bonds fell as investors fled to the traditional haven in a market storm . [SEP]\n",
      "11/04/2021 11:16:35 - INFO - finbert.utils -   input_ids: 101 16189 2006 2231 9547 3062 2004 9387 6783 2000 1996 3151 4033 1999 1037 3006 4040 1012 102 0 0 0 0 0 0 0 0 0 0 0 0 0 0 0 0 0 0 0 0 0 0 0 0 0 0 0 0 0 0 0 0 0 0 0 0 0 0 0 0 0 0 0 0 0\n",
      "11/04/2021 11:16:35 - INFO - finbert.utils -   attention_mask: 1 1 1 1 1 1 1 1 1 1 1 1 1 1 1 1 1 1 1 0 0 0 0 0 0 0 0 0 0 0 0 0 0 0 0 0 0 0 0 0 0 0 0 0 0 0 0 0 0 0 0 0 0 0 0 0 0 0 0 0 0 0 0 0\n",
      "11/04/2021 11:16:35 - INFO - finbert.utils -   token_type_ids: 0 0 0 0 0 0 0 0 0 0 0 0 0 0 0 0 0 0 0 0 0 0 0 0 0 0 0 0 0 0 0 0 0 0 0 0 0 0 0 0 0 0 0 0 0 0 0 0 0 0 0 0 0 0 0 0 0 0 0 0 0 0 0 0\n",
      "11/04/2021 11:16:35 - INFO - finbert.utils -   label: None (id = 9090)\n",
      "11/04/2021 11:16:35 - INFO - root -   tensor([[-1.2747,  4.2423, -2.3241]])\n"
     ]
    }
   ],
   "source": [
    "result = predict(text,model)"
   ]
  },
  {
   "cell_type": "code",
   "execution_count": 81,
   "metadata": {
    "ExecuteTime": {
     "end_time": "2020-03-23T15:59:20.519047Z",
     "start_time": "2020-03-23T15:59:20.440450Z"
    }
   },
   "outputs": [
    {
     "data": {
      "text/html": [
       "<div>\n",
       "<style scoped>\n",
       "    .dataframe tbody tr th:only-of-type {\n",
       "        vertical-align: middle;\n",
       "    }\n",
       "\n",
       "    .dataframe tbody tr th {\n",
       "        vertical-align: top;\n",
       "    }\n",
       "\n",
       "    .dataframe thead th {\n",
       "        text-align: right;\n",
       "    }\n",
       "</style>\n",
       "<table border=\"1\" class=\"dataframe\">\n",
       "  <thead>\n",
       "    <tr style=\"text-align: right;\">\n",
       "      <th></th>\n",
       "      <th>sentence</th>\n",
       "      <th>logit</th>\n",
       "      <th>prediction</th>\n",
       "      <th>sentiment_score</th>\n",
       "      <th>textblob_prediction</th>\n",
       "    </tr>\n",
       "  </thead>\n",
       "  <tbody>\n",
       "    <tr>\n",
       "      <th>0</th>\n",
       "      <td>Later that day Apple said it was revising down its earnings expectations in the fourth quarter of 2018, largely because of lower sales and signs of economic weakness in China.</td>\n",
       "      <td>[0.0033345295, 0.98776615, 0.008899213]</td>\n",
       "      <td>negative</td>\n",
       "      <td>-0.984432</td>\n",
       "      <td>0.051746</td>\n",
       "    </tr>\n",
       "    <tr>\n",
       "      <th>1</th>\n",
       "      <td>The news rapidly infected financial markets.</td>\n",
       "      <td>[0.008665337, 0.96750736, 0.023827318]</td>\n",
       "      <td>negative</td>\n",
       "      <td>-0.958842</td>\n",
       "      <td>0.000000</td>\n",
       "    </tr>\n",
       "    <tr>\n",
       "      <th>2</th>\n",
       "      <td>Apple’s share price fell by around 7% in after-hours trading and the decline was extended to more than 10% when the market opened.</td>\n",
       "      <td>[0.0026462073, 0.99120516, 0.0061486457]</td>\n",
       "      <td>negative</td>\n",
       "      <td>-0.988559</td>\n",
       "      <td>0.500000</td>\n",
       "    </tr>\n",
       "    <tr>\n",
       "      <th>3</th>\n",
       "      <td>The dollar fell by 3.7% against the yen in a matter of minutes after the announcement, before rapidly recovering some ground.</td>\n",
       "      <td>[0.007249232, 0.9876209, 0.0051299236]</td>\n",
       "      <td>negative</td>\n",
       "      <td>-0.980372</td>\n",
       "      <td>0.000000</td>\n",
       "    </tr>\n",
       "    <tr>\n",
       "      <th>4</th>\n",
       "      <td>Asian stockmarkets closed down on January 3rd and European ones opened lower.</td>\n",
       "      <td>[0.0038619624, 0.9161373, 0.08000076]</td>\n",
       "      <td>negative</td>\n",
       "      <td>-0.912275</td>\n",
       "      <td>-0.051111</td>\n",
       "    </tr>\n",
       "    <tr>\n",
       "      <th>5</th>\n",
       "      <td>Yields on government bonds fell as investors fled to the traditional haven in a market storm.</td>\n",
       "      <td>[0.0039962516, 0.9946044, 0.0013992615]</td>\n",
       "      <td>negative</td>\n",
       "      <td>-0.990608</td>\n",
       "      <td>0.000000</td>\n",
       "    </tr>\n",
       "  </tbody>\n",
       "</table>\n",
       "</div>"
      ],
      "text/plain": [
       "                                                                                                                                                                          sentence  \\\n",
       "0  Later that day Apple said it was revising down its earnings expectations in the fourth quarter of 2018, largely because of lower sales and signs of economic weakness in China.   \n",
       "1  The news rapidly infected financial markets.                                                                                                                                      \n",
       "2  Apple’s share price fell by around 7% in after-hours trading and the decline was extended to more than 10% when the market opened.                                                \n",
       "3  The dollar fell by 3.7% against the yen in a matter of minutes after the announcement, before rapidly recovering some ground.                                                     \n",
       "4  Asian stockmarkets closed down on January 3rd and European ones opened lower.                                                                                                     \n",
       "5  Yields on government bonds fell as investors fled to the traditional haven in a market storm.                                                                                     \n",
       "\n",
       "                                      logit prediction  sentiment_score  \\\n",
       "0  [0.0033345295, 0.98776615, 0.008899213]   negative  -0.984432          \n",
       "1  [0.008665337, 0.96750736, 0.023827318]    negative  -0.958842          \n",
       "2  [0.0026462073, 0.99120516, 0.0061486457]  negative  -0.988559          \n",
       "3  [0.007249232, 0.9876209, 0.0051299236]    negative  -0.980372          \n",
       "4  [0.0038619624, 0.9161373, 0.08000076]     negative  -0.912275          \n",
       "5  [0.0039962516, 0.9946044, 0.0013992615]   negative  -0.990608          \n",
       "\n",
       "   textblob_prediction  \n",
       "0  0.051746             \n",
       "1  0.000000             \n",
       "2  0.500000             \n",
       "3  0.000000             \n",
       "4 -0.051111             \n",
       "5  0.000000             "
      ]
     },
     "execution_count": 81,
     "metadata": {},
     "output_type": "execute_result"
    }
   ],
   "source": [
    "blob = TextBlob(text)\n",
    "result['textblob_prediction'] = [sentence.sentiment.polarity for sentence in blob.sentences]\n",
    "result"
   ]
  },
  {
   "cell_type": "code",
   "execution_count": 82,
   "metadata": {
    "ExecuteTime": {
     "end_time": "2020-03-23T15:59:38.737969Z",
     "start_time": "2020-03-23T15:59:38.718255Z"
    }
   },
   "outputs": [
    {
     "name": "stdout",
     "output_type": "stream",
     "text": [
      "Average sentiment is -0.97.\n"
     ]
    }
   ],
   "source": [
    "print(f'Average sentiment is %.2f.' % (result.sentiment_score.mean()))"
   ]
  },
  {
   "cell_type": "markdown",
   "metadata": {},
   "source": [
    "Here is another example"
   ]
  },
  {
   "cell_type": "code",
   "execution_count": 35,
   "metadata": {
    "ExecuteTime": {
     "end_time": "2020-03-23T15:59:45.922058Z",
     "start_time": "2020-03-23T15:59:45.904622Z"
    }
   },
   "outputs": [],
   "source": [
    "text2 = \"Shares in the spin-off of South African e-commerce group Naspers surged more than 25% \\\n",
    "in the first minutes of their market debut in Amsterdam on Wednesday. Bob van Dijk, CEO of \\\n",
    "Naspers and Prosus Group poses at Amsterdam's stock exchange, as Prosus begins trading on the \\\n",
    "Euronext stock exchange in Amsterdam, Netherlands, September 11, 2019. REUTERS/Piroschka van de Wouw \\\n",
    "Prosus comprises Naspers’ global empire of consumer internet assets, with the jewel in the crown a \\\n",
    "31% stake in Chinese tech titan Tencent. There is 'way more demand than is even available, so that’s \\\n",
    "good,' said the CEO of Euronext Amsterdam, Maurice van Tilburg. 'It’s going to be an interesting \\\n",
    "hour of trade after opening this morning.' Euronext had given an indicative price of 58.70 euros \\\n",
    "per share for Prosus, implying a market value of 95.3 billion euros ($105 billion). The shares \\\n",
    "jumped to 76 euros on opening and were trading at 75 euros at 0719 GMT.\""
   ]
  },
  {
   "cell_type": "code",
   "execution_count": 83,
   "metadata": {
    "ExecuteTime": {
     "end_time": "2020-03-23T15:59:48.152474Z",
     "start_time": "2020-03-23T15:59:47.028417Z"
    }
   },
   "outputs": [
    {
     "name": "stderr",
     "output_type": "stream",
     "text": [
      "11/04/2021 11:18:14 - INFO - finbert.utils -   *** Example ***\n",
      "11/04/2021 11:18:14 - INFO - finbert.utils -   guid: 0\n",
      "11/04/2021 11:18:14 - INFO - finbert.utils -   tokens: [CLS] shares in the spin - off of south african e - commerce group nas ##pers surged more than 25 % in the first minutes of their market debut in amsterdam on wednesday . [SEP]\n",
      "11/04/2021 11:18:14 - INFO - finbert.utils -   input_ids: 101 6661 1999 1996 6714 1011 2125 1997 2148 3060 1041 1011 6236 2177 17235 7347 18852 2062 2084 2423 1003 1999 1996 2034 2781 1997 2037 3006 2834 1999 7598 2006 9317 1012 102 0 0 0 0 0 0 0 0 0 0 0 0 0 0 0 0 0 0 0 0 0 0 0 0 0 0 0 0 0\n",
      "11/04/2021 11:18:14 - INFO - finbert.utils -   attention_mask: 1 1 1 1 1 1 1 1 1 1 1 1 1 1 1 1 1 1 1 1 1 1 1 1 1 1 1 1 1 1 1 1 1 1 1 0 0 0 0 0 0 0 0 0 0 0 0 0 0 0 0 0 0 0 0 0 0 0 0 0 0 0 0 0\n",
      "11/04/2021 11:18:14 - INFO - finbert.utils -   token_type_ids: 0 0 0 0 0 0 0 0 0 0 0 0 0 0 0 0 0 0 0 0 0 0 0 0 0 0 0 0 0 0 0 0 0 0 0 0 0 0 0 0 0 0 0 0 0 0 0 0 0 0 0 0 0 0 0 0 0 0 0 0 0 0 0 0\n",
      "11/04/2021 11:18:14 - INFO - finbert.utils -   label: None (id = 9090)\n",
      "11/04/2021 11:18:14 - INFO - root -   tensor([[ 3.8759, -1.5485, -1.7481],\n",
      "        [-2.2206, -1.6748,  3.3601],\n",
      "        [-1.9119, -2.5888,  3.8054],\n",
      "        [ 3.6854, -2.1549, -1.0224],\n",
      "        [-1.2506, -2.4139,  2.9798]])\n",
      "11/04/2021 11:18:14 - INFO - finbert.utils -   *** Example ***\n",
      "11/04/2021 11:18:14 - INFO - finbert.utils -   guid: 0\n",
      "11/04/2021 11:18:14 - INFO - finbert.utils -   tokens: [CLS] euro ##ne ##xt had given an indicative price of 58 . 70 euros per share for pro ##sus , implying a market value of 95 . 3 billion euros ( $ 105 billion ) . [SEP]\n",
      "11/04/2021 11:18:14 - INFO - finbert.utils -   input_ids: 101 9944 2638 18413 2018 2445 2019 24668 3976 1997 5388 1012 3963 19329 2566 3745 2005 4013 13203 1010 20242 1037 3006 3643 1997 5345 1012 1017 4551 19329 1006 1002 8746 4551 1007 1012 102 0 0 0 0 0 0 0 0 0 0 0 0 0 0 0 0 0 0 0 0 0 0 0 0 0 0 0\n",
      "11/04/2021 11:18:14 - INFO - finbert.utils -   attention_mask: 1 1 1 1 1 1 1 1 1 1 1 1 1 1 1 1 1 1 1 1 1 1 1 1 1 1 1 1 1 1 1 1 1 1 1 1 1 0 0 0 0 0 0 0 0 0 0 0 0 0 0 0 0 0 0 0 0 0 0 0 0 0 0 0\n",
      "11/04/2021 11:18:14 - INFO - finbert.utils -   token_type_ids: 0 0 0 0 0 0 0 0 0 0 0 0 0 0 0 0 0 0 0 0 0 0 0 0 0 0 0 0 0 0 0 0 0 0 0 0 0 0 0 0 0 0 0 0 0 0 0 0 0 0 0 0 0 0 0 0 0 0 0 0 0 0 0 0\n",
      "11/04/2021 11:18:14 - INFO - finbert.utils -   label: None (id = 9090)\n",
      "11/04/2021 11:18:14 - INFO - root -   tensor([[-1.2162, -3.0940,  3.9062],\n",
      "        [ 0.9690, -3.4366,  2.2862]])\n"
     ]
    }
   ],
   "source": [
    "result2 = predict(text2,model)\n",
    "blob = TextBlob(text2)\n",
    "result2['textblob_prediction'] = [sentence.sentiment.polarity for sentence in blob.sentences]"
   ]
  },
  {
   "cell_type": "code",
   "execution_count": 84,
   "metadata": {
    "ExecuteTime": {
     "end_time": "2020-03-23T15:59:50.428951Z",
     "start_time": "2020-03-23T15:59:50.402385Z"
    }
   },
   "outputs": [
    {
     "data": {
      "text/html": [
       "<div>\n",
       "<style scoped>\n",
       "    .dataframe tbody tr th:only-of-type {\n",
       "        vertical-align: middle;\n",
       "    }\n",
       "\n",
       "    .dataframe tbody tr th {\n",
       "        vertical-align: top;\n",
       "    }\n",
       "\n",
       "    .dataframe thead th {\n",
       "        text-align: right;\n",
       "    }\n",
       "</style>\n",
       "<table border=\"1\" class=\"dataframe\">\n",
       "  <thead>\n",
       "    <tr style=\"text-align: right;\">\n",
       "      <th></th>\n",
       "      <th>sentence</th>\n",
       "      <th>logit</th>\n",
       "      <th>prediction</th>\n",
       "      <th>sentiment_score</th>\n",
       "      <th>textblob_prediction</th>\n",
       "    </tr>\n",
       "  </thead>\n",
       "  <tbody>\n",
       "    <tr>\n",
       "      <th>0</th>\n",
       "      <td>Shares in the spin-off of South African e-commerce group Naspers surged more than 25% in the first minutes of their market debut in Amsterdam on Wednesday.</td>\n",
       "      <td>[0.9920455, 0.004372825, 0.0035817088]</td>\n",
       "      <td>positive</td>\n",
       "      <td>0.987673</td>\n",
       "      <td>0.250000</td>\n",
       "    </tr>\n",
       "    <tr>\n",
       "      <th>1</th>\n",
       "      <td>Bob van Dijk, CEO of Naspers and Prosus Group poses at Amsterdam's stock exchange, as Prosus begins trading on the Euronext stock exchange in Amsterdam, Netherlands, September 11, 2019.</td>\n",
       "      <td>[0.0037315853, 0.0064404076, 0.989828]</td>\n",
       "      <td>neutral</td>\n",
       "      <td>-0.002709</td>\n",
       "      <td>0.000000</td>\n",
       "    </tr>\n",
       "    <tr>\n",
       "      <th>2</th>\n",
       "      <td>REUTERS/Piroschka van de Wouw Prosus comprises Naspers’ global empire of consumer internet assets, with the jewel in the crown a 31% stake in Chinese tech titan Tencent.</td>\n",
       "      <td>[0.0032723187, 0.0016629169, 0.9950648]</td>\n",
       "      <td>neutral</td>\n",
       "      <td>0.001609</td>\n",
       "      <td>0.000000</td>\n",
       "    </tr>\n",
       "    <tr>\n",
       "      <th>3</th>\n",
       "      <td>There is 'way more demand than is even available, so that’s good,' said the CEO of Euronext Amsterdam, Maurice van Tilburg.</td>\n",
       "      <td>[0.98820764, 0.0028737478, 0.008918695]</td>\n",
       "      <td>positive</td>\n",
       "      <td>0.985334</td>\n",
       "      <td>0.533333</td>\n",
       "    </tr>\n",
       "    <tr>\n",
       "      <th>4</th>\n",
       "      <td>'It’s going to be an interesting hour of trade after opening this morning.'</td>\n",
       "      <td>[0.014273786, 0.004459984, 0.98126626]</td>\n",
       "      <td>neutral</td>\n",
       "      <td>0.009814</td>\n",
       "      <td>0.500000</td>\n",
       "    </tr>\n",
       "    <tr>\n",
       "      <th>5</th>\n",
       "      <td>Euronext had given an indicative price of 58.70 euros per share for Prosus, implying a market value of 95.3 billion euros ($105 billion).</td>\n",
       "      <td>[0.0059209173, 0.00090549554, 0.99317354]</td>\n",
       "      <td>neutral</td>\n",
       "      <td>0.005015</td>\n",
       "      <td>0.000000</td>\n",
       "    </tr>\n",
       "    <tr>\n",
       "      <th>6</th>\n",
       "      <td>The shares jumped to 76 euros on opening and were trading at 75 euros at 0719 GMT.</td>\n",
       "      <td>[0.21073681, 0.002572727, 0.7866905]</td>\n",
       "      <td>neutral</td>\n",
       "      <td>0.208164</td>\n",
       "      <td>0.000000</td>\n",
       "    </tr>\n",
       "  </tbody>\n",
       "</table>\n",
       "</div>"
      ],
      "text/plain": [
       "                                                                                                                                                                                    sentence  \\\n",
       "0  Shares in the spin-off of South African e-commerce group Naspers surged more than 25% in the first minutes of their market debut in Amsterdam on Wednesday.                                 \n",
       "1  Bob van Dijk, CEO of Naspers and Prosus Group poses at Amsterdam's stock exchange, as Prosus begins trading on the Euronext stock exchange in Amsterdam, Netherlands, September 11, 2019.   \n",
       "2  REUTERS/Piroschka van de Wouw Prosus comprises Naspers’ global empire of consumer internet assets, with the jewel in the crown a 31% stake in Chinese tech titan Tencent.                   \n",
       "3  There is 'way more demand than is even available, so that’s good,' said the CEO of Euronext Amsterdam, Maurice van Tilburg.                                                                 \n",
       "4  'It’s going to be an interesting hour of trade after opening this morning.'                                                                                                                 \n",
       "5  Euronext had given an indicative price of 58.70 euros per share for Prosus, implying a market value of 95.3 billion euros ($105 billion).                                                   \n",
       "6  The shares jumped to 76 euros on opening and were trading at 75 euros at 0719 GMT.                                                                                                          \n",
       "\n",
       "                                       logit prediction  sentiment_score  \\\n",
       "0  [0.9920455, 0.004372825, 0.0035817088]     positive   0.987673          \n",
       "1  [0.0037315853, 0.0064404076, 0.989828]     neutral   -0.002709          \n",
       "2  [0.0032723187, 0.0016629169, 0.9950648]    neutral    0.001609          \n",
       "3  [0.98820764, 0.0028737478, 0.008918695]    positive   0.985334          \n",
       "4  [0.014273786, 0.004459984, 0.98126626]     neutral    0.009814          \n",
       "5  [0.0059209173, 0.00090549554, 0.99317354]  neutral    0.005015          \n",
       "6  [0.21073681, 0.002572727, 0.7866905]       neutral    0.208164          \n",
       "\n",
       "   textblob_prediction  \n",
       "0  0.250000             \n",
       "1  0.000000             \n",
       "2  0.000000             \n",
       "3  0.533333             \n",
       "4  0.500000             \n",
       "5  0.000000             \n",
       "6  0.000000             "
      ]
     },
     "execution_count": 84,
     "metadata": {},
     "output_type": "execute_result"
    }
   ],
   "source": [
    "result2"
   ]
  },
  {
   "cell_type": "code",
   "execution_count": 85,
   "metadata": {
    "ExecuteTime": {
     "end_time": "2020-03-23T16:00:27.031491Z",
     "start_time": "2020-03-23T16:00:27.012639Z"
    }
   },
   "outputs": [
    {
     "name": "stdout",
     "output_type": "stream",
     "text": [
      "Average sentiment is 0.31.\n"
     ]
    }
   ],
   "source": [
    "print(f'Average sentiment is %.2f.' % (result2.sentiment_score.mean()))"
   ]
  },
  {
   "cell_type": "code",
   "execution_count": 86,
   "metadata": {},
   "outputs": [],
   "source": [
    "\n",
    "text3 = \"The hedge fund traders watched as a \\\n",
    "nightmare scenario played out in the world’s bonds markets.  \\\n",
    "From Australia to the U.K. to the U.S., government bond \\\n",
    "yields abruptly moved against them last week amid growing \\\n",
    "speculation that central banks will accelerate plans for raising \\\n",
    "interest rates in the face of persistent inflation. The losses \\\n",
    "piled up -- and for a few became so big that the firms halted \\\n",
    "some trading to contain the damage.  \\\n",
    "Balyasny Asset Management, BlueCrest Capital Management and \\\n",
    "ExodusPoint Capital Management each curtailed the betting of two \\\n",
    "to four traders after they hit maximum loss levels, according to \\\n",
    "people with knowledge of the matter, who asked not to be \\\n",
    "identified because the information is private. That step stopped \\\n",
    "traders from changing their positions, an extraordinary risk- \\\n",
    "management move used so firms can reassess trades or unwind \\\n",
    "them. \\\n",
    "ExodusPoint lost about $400 million last month, leaving it \\\n",
    "down 2% in October, people said. The fund is still up 2.8% year- \\\n",
    "to-date. \\\n",
    "Millennium Management also suffered amid the tumult and is \\\n",
    "continuing to monitor its macro portfolio managers’ trades, \\\n",
    "people said. Meanwhile, Point72 Asset Management’s macro \\\n",
    "business was said to see some losses from the bond-market moves. \\\n",
    "The hits show how even some of the most sophisticated \\\n",
    "traders have been caught flat-footed by the rapid shift in \\\n",
    "sentiment that has raced through markets. It’s unclear how much \\\n",
    "the losses will drag down the hedge funds’ returns, and they \\\n",
    "could be offset by the stock rally that’s driven the S&P 500 to \\\n",
    "new record highs. \\\n",
    "Representatives for the firms declined to comment.  \\\n",
    "Many hedge funds had been betting that central banks would \\\n",
    "be slow to raise interest rates, seeing the surge in consumer \\\n",
    "prices as a temporary side-effect of the pandemic.  \\\n",
    "But that view has been challenged as hawkish comments from \\\n",
    "the Bank of England cemented expectations for a rate hike, the \\\n",
    "Bank of Canada shut down its bond buying program and Australian \\\n",
    "policymakers abandoned a key short-term yield target. In the \\\n",
    "U.S., where the Federal Reserve is widely expected Wednesday to \\\n",
    "announce plans for winding down its bond purchases, markets are \\\n",
    "now pricing in two rate hikes by December 2022. \\\n",
    "That has upended trades betting that the gap between short- \\\n",
    "and long-term bond yields would widen, which would happen if \\\n",
    "markets expected growth and inflation to accelerate in the face \\\n",
    "of loose monetary policy. Instead, that gap narrowed. \\\n",
    "Read more: Bond Market Dares Fed to Defy It After Bloody \\\n",
    "Week for Investors \\\n",
    "In the U.S., the difference between two- and 10-year \\\n",
    "Treasury yields flattened by 13 basis points Wednesday, marking \\\n",
    "one of the biggest one-day moves in the yield curve of the past \\\n",
    "two decades, according to Cornerstone Macro’s estimates. That \\\n",
    "came as the two-year Treasury yield almost doubled last month to \\\n",
    "about 0.5%. An upward move hadn’t approached that degree since \\\n",
    "December 2009, when the two-year yield jumped to about 1.14% \\\n",
    "from 0.66%. \\\n",
    "The volatility this year has led to heavy losses for some \\\n",
    "of the best known macro traders in the world. Billionaire Chris \\\n",
    "Rokos’s hedge fund losses worsened to 20% through Oct. 22 this \\\n",
    "year, in part because of wagers that the yield curve would \\\n",
    "steepen in the U.K. and U.S. Alphadyne Asset Management, which \\\n",
    "has never had a down year since it started up in 2006, had lost \\\n",
    "13% during the period.  \\\n",
    "Another hedge fund that suffered heavy losses was interest- \\\n",
    "rate-focused Frost Asset Management, which slumped almost 18% \\\n",
    "last month largely due to the sharp rise in Swedish short-term \\\n",
    "interest rates and flatter yield curves, according to the fund’s \\\n",
    "backer Brummer & Partners AB.\"\n"
   ]
  },
  {
   "cell_type": "code",
   "execution_count": 87,
   "metadata": {},
   "outputs": [
    {
     "name": "stderr",
     "output_type": "stream",
     "text": [
      "11/04/2021 11:18:24 - INFO - finbert.utils -   *** Example ***\n",
      "11/04/2021 11:18:24 - INFO - finbert.utils -   guid: 0\n",
      "11/04/2021 11:18:24 - INFO - finbert.utils -   tokens: [CLS] the hedge fund traders watched as a nightmare scenario played out in the world ’ s bonds markets . [SEP]\n",
      "11/04/2021 11:18:24 - INFO - finbert.utils -   input_ids: 101 1996 17834 4636 13066 3427 2004 1037 10103 11967 2209 2041 1999 1996 2088 1521 1055 9547 6089 1012 102 0 0 0 0 0 0 0 0 0 0 0 0 0 0 0 0 0 0 0 0 0 0 0 0 0 0 0 0 0 0 0 0 0 0 0 0 0 0 0 0 0 0 0\n",
      "11/04/2021 11:18:24 - INFO - finbert.utils -   attention_mask: 1 1 1 1 1 1 1 1 1 1 1 1 1 1 1 1 1 1 1 1 1 0 0 0 0 0 0 0 0 0 0 0 0 0 0 0 0 0 0 0 0 0 0 0 0 0 0 0 0 0 0 0 0 0 0 0 0 0 0 0 0 0 0 0\n",
      "11/04/2021 11:18:24 - INFO - finbert.utils -   token_type_ids: 0 0 0 0 0 0 0 0 0 0 0 0 0 0 0 0 0 0 0 0 0 0 0 0 0 0 0 0 0 0 0 0 0 0 0 0 0 0 0 0 0 0 0 0 0 0 0 0 0 0 0 0 0 0 0 0 0 0 0 0 0 0 0 0\n",
      "11/04/2021 11:18:24 - INFO - finbert.utils -   label: None (id = 9090)\n",
      "11/04/2021 11:18:24 - INFO - root -   tensor([[-2.8140,  0.1570,  1.4619],\n",
      "        [-2.0739,  3.5156, -1.3099],\n",
      "        [-1.4829,  3.7458, -1.8795],\n",
      "        [-2.2337,  3.2986, -0.9748],\n",
      "        [-1.4708,  3.2392, -1.8260]])\n",
      "11/04/2021 11:18:24 - INFO - finbert.utils -   *** Example ***\n",
      "11/04/2021 11:18:24 - INFO - finbert.utils -   guid: 0\n",
      "11/04/2021 11:18:24 - INFO - finbert.utils -   tokens: [CLS] exodus ##point lost about $ 400 million last month , leaving it down 2 % in october , people said . [SEP]\n",
      "11/04/2021 11:18:24 - INFO - finbert.utils -   input_ids: 101 16388 8400 2439 2055 1002 4278 2454 2197 3204 1010 2975 2009 2091 1016 1003 1999 2255 1010 2111 2056 1012 102 0 0 0 0 0 0 0 0 0 0 0 0 0 0 0 0 0 0 0 0 0 0 0 0 0 0 0 0 0 0 0 0 0 0 0 0 0 0 0 0 0\n",
      "11/04/2021 11:18:24 - INFO - finbert.utils -   attention_mask: 1 1 1 1 1 1 1 1 1 1 1 1 1 1 1 1 1 1 1 1 1 1 1 0 0 0 0 0 0 0 0 0 0 0 0 0 0 0 0 0 0 0 0 0 0 0 0 0 0 0 0 0 0 0 0 0 0 0 0 0 0 0 0 0\n",
      "11/04/2021 11:18:24 - INFO - finbert.utils -   token_type_ids: 0 0 0 0 0 0 0 0 0 0 0 0 0 0 0 0 0 0 0 0 0 0 0 0 0 0 0 0 0 0 0 0 0 0 0 0 0 0 0 0 0 0 0 0 0 0 0 0 0 0 0 0 0 0 0 0 0 0 0 0 0 0 0 0\n",
      "11/04/2021 11:18:24 - INFO - finbert.utils -   label: None (id = 9090)\n",
      "11/04/2021 11:18:24 - INFO - root -   tensor([[-2.2849,  3.6961, -1.0399],\n",
      "        [ 3.4906, -2.5368, -0.7480],\n",
      "        [-2.7451,  2.6634,  0.0801],\n",
      "        [-1.9614,  3.9902, -1.6172],\n",
      "        [-3.0114,  0.1507,  2.2023]])\n",
      "11/04/2021 11:18:24 - INFO - finbert.utils -   *** Example ***\n",
      "11/04/2021 11:18:24 - INFO - finbert.utils -   guid: 0\n",
      "11/04/2021 11:18:24 - INFO - finbert.utils -   tokens: [CLS] it ’ s unclear how much the losses will drag down the hedge funds ’ returns , and they could be offset by the stock rally that ’ s driven the s & p 500 to new record highs . [SEP]\n",
      "11/04/2021 11:18:24 - INFO - finbert.utils -   input_ids: 101 2009 1521 1055 10599 2129 2172 1996 6409 2097 8011 2091 1996 17834 5029 1521 5651 1010 1998 2027 2071 2022 16396 2011 1996 4518 8320 2008 1521 1055 5533 1996 1055 1004 1052 3156 2000 2047 2501 26836 1012 102 0 0 0 0 0 0 0 0 0 0 0 0 0 0 0 0 0 0 0 0 0 0\n",
      "11/04/2021 11:18:24 - INFO - finbert.utils -   attention_mask: 1 1 1 1 1 1 1 1 1 1 1 1 1 1 1 1 1 1 1 1 1 1 1 1 1 1 1 1 1 1 1 1 1 1 1 1 1 1 1 1 1 1 0 0 0 0 0 0 0 0 0 0 0 0 0 0 0 0 0 0 0 0 0 0\n",
      "11/04/2021 11:18:24 - INFO - finbert.utils -   token_type_ids: 0 0 0 0 0 0 0 0 0 0 0 0 0 0 0 0 0 0 0 0 0 0 0 0 0 0 0 0 0 0 0 0 0 0 0 0 0 0 0 0 0 0 0 0 0 0 0 0 0 0 0 0 0 0 0 0 0 0 0 0 0 0 0 0\n",
      "11/04/2021 11:18:24 - INFO - finbert.utils -   label: None (id = 9090)\n",
      "11/04/2021 11:18:25 - INFO - root -   tensor([[-2.4497,  2.3124, -0.4477],\n",
      "        [-2.4238, -1.6985,  3.1641],\n",
      "        [-2.2121,  3.4421, -1.0450],\n",
      "        [-2.4055,  2.5367, -0.2679],\n",
      "        [-2.7490,  0.8046,  1.5369]])\n",
      "11/04/2021 11:18:25 - INFO - finbert.utils -   *** Example ***\n",
      "11/04/2021 11:18:25 - INFO - finbert.utils -   guid: 0\n",
      "11/04/2021 11:18:25 - INFO - finbert.utils -   tokens: [CLS] that has up ##ended trades betting that the gap between short - and long - term bond yields would widen , which would happen if markets expected growth and inflation to accelerate in the face of loose monetary policy . [SEP]\n",
      "11/04/2021 11:18:25 - INFO - finbert.utils -   input_ids: 101 2008 2038 2039 21945 14279 19244 2008 1996 6578 2090 2460 1011 1998 2146 1011 2744 5416 16189 2052 21255 1010 2029 2052 4148 2065 6089 3517 3930 1998 14200 2000 23306 1999 1996 2227 1997 6065 12194 3343 1012 102 0 0 0 0 0 0 0 0 0 0 0 0 0 0 0 0 0 0 0 0 0 0\n",
      "11/04/2021 11:18:25 - INFO - finbert.utils -   attention_mask: 1 1 1 1 1 1 1 1 1 1 1 1 1 1 1 1 1 1 1 1 1 1 1 1 1 1 1 1 1 1 1 1 1 1 1 1 1 1 1 1 1 1 0 0 0 0 0 0 0 0 0 0 0 0 0 0 0 0 0 0 0 0 0 0\n",
      "11/04/2021 11:18:25 - INFO - finbert.utils -   token_type_ids: 0 0 0 0 0 0 0 0 0 0 0 0 0 0 0 0 0 0 0 0 0 0 0 0 0 0 0 0 0 0 0 0 0 0 0 0 0 0 0 0 0 0 0 0 0 0 0 0 0 0 0 0 0 0 0 0 0 0 0 0 0 0 0 0\n",
      "11/04/2021 11:18:25 - INFO - finbert.utils -   label: None (id = 9090)\n",
      "11/04/2021 11:18:25 - INFO - root -   tensor([[-2.4510,  3.0910, -0.4215],\n",
      "        [ 0.0468, -2.9998,  2.0245],\n",
      "        [-2.0167,  3.4228, -1.2667],\n",
      "        [ 3.8643, -1.6130, -1.5251],\n",
      "        [ 3.5808, -1.2920, -1.6497]])\n",
      "11/04/2021 11:18:25 - INFO - finbert.utils -   *** Example ***\n",
      "11/04/2021 11:18:25 - INFO - finbert.utils -   guid: 0\n",
      "11/04/2021 11:18:25 - INFO - finbert.utils -   tokens: [CLS] the vol ##ati ##lity this year has led to heavy losses for some of the best known macro traders in the world . [SEP]\n",
      "11/04/2021 11:18:25 - INFO - finbert.utils -   input_ids: 101 1996 5285 10450 18605 2023 2095 2038 2419 2000 3082 6409 2005 2070 1997 1996 2190 2124 26632 13066 1999 1996 2088 1012 102 0 0 0 0 0 0 0 0 0 0 0 0 0 0 0 0 0 0 0 0 0 0 0 0 0 0 0 0 0 0 0 0 0 0 0 0 0 0 0\n",
      "11/04/2021 11:18:25 - INFO - finbert.utils -   attention_mask: 1 1 1 1 1 1 1 1 1 1 1 1 1 1 1 1 1 1 1 1 1 1 1 1 1 0 0 0 0 0 0 0 0 0 0 0 0 0 0 0 0 0 0 0 0 0 0 0 0 0 0 0 0 0 0 0 0 0 0 0 0 0 0 0\n",
      "11/04/2021 11:18:25 - INFO - finbert.utils -   token_type_ids: 0 0 0 0 0 0 0 0 0 0 0 0 0 0 0 0 0 0 0 0 0 0 0 0 0 0 0 0 0 0 0 0 0 0 0 0 0 0 0 0 0 0 0 0 0 0 0 0 0 0 0 0 0 0 0 0 0 0 0 0 0 0 0 0\n",
      "11/04/2021 11:18:25 - INFO - finbert.utils -   label: None (id = 9090)\n",
      "11/04/2021 11:18:25 - INFO - root -   tensor([[-1.4239,  4.2755, -2.2927],\n",
      "        [-2.0311,  3.7532, -1.3917],\n",
      "        [-2.0867,  3.8481, -1.3533]])\n"
     ]
    }
   ],
   "source": [
    "#text3 = text3.replace('\\n',' ')\n",
    "result3 = predict(text3,model)\n",
    "blob = TextBlob(text3)\n",
    "result3['textblob_prediction'] = [sentence.sentiment.polarity for sentence in blob.sentences]"
   ]
  },
  {
   "cell_type": "code",
   "execution_count": 88,
   "metadata": {
    "scrolled": false
   },
   "outputs": [
    {
     "data": {
      "text/html": [
       "<div>\n",
       "<style scoped>\n",
       "    .dataframe tbody tr th:only-of-type {\n",
       "        vertical-align: middle;\n",
       "    }\n",
       "\n",
       "    .dataframe tbody tr th {\n",
       "        vertical-align: top;\n",
       "    }\n",
       "\n",
       "    .dataframe thead th {\n",
       "        text-align: right;\n",
       "    }\n",
       "</style>\n",
       "<table border=\"1\" class=\"dataframe\">\n",
       "  <thead>\n",
       "    <tr style=\"text-align: right;\">\n",
       "      <th></th>\n",
       "      <th>sentence</th>\n",
       "      <th>logit</th>\n",
       "      <th>prediction</th>\n",
       "      <th>sentiment_score</th>\n",
       "      <th>textblob_prediction</th>\n",
       "    </tr>\n",
       "  </thead>\n",
       "  <tbody>\n",
       "    <tr>\n",
       "      <th>0</th>\n",
       "      <td>The hedge fund traders watched as a nightmare scenario played out in the world’s bonds markets.</td>\n",
       "      <td>[0.0108164, 0.21103124, 0.7781524]</td>\n",
       "      <td>neutral</td>\n",
       "      <td>-0.200215</td>\n",
       "      <td>0.000000</td>\n",
       "    </tr>\n",
       "    <tr>\n",
       "      <th>1</th>\n",
       "      <td>From Australia to the U.K. to the U.S., government bond yields abruptly moved against them last week amid growing speculation that central banks will accelerate plans for raising interest rates in the face of persistent inflation.</td>\n",
       "      <td>[0.0036933662, 0.9883773, 0.007929306]</td>\n",
       "      <td>negative</td>\n",
       "      <td>-0.984684</td>\n",
       "      <td>-0.041667</td>\n",
       "    </tr>\n",
       "    <tr>\n",
       "      <th>2</th>\n",
       "      <td>The losses piled up -- and for a few became so big that the firms halted some trading to contain the damage.</td>\n",
       "      <td>[0.0053127944, 0.99111396, 0.003573179]</td>\n",
       "      <td>negative</td>\n",
       "      <td>-0.985801</td>\n",
       "      <td>-0.100000</td>\n",
       "    </tr>\n",
       "    <tr>\n",
       "      <th>3</th>\n",
       "      <td>Balyasny Asset Management, BlueCrest Capital Management and ExodusPoint Capital Management each curtailed the betting of two to four traders after they hit maximum loss levels, according to people with knowledge of the matter, who asked not to be identified because the information is private.</td>\n",
       "      <td>[0.0038873581, 0.9824223, 0.013690379]</td>\n",
       "      <td>negative</td>\n",
       "      <td>-0.978535</td>\n",
       "      <td>0.000000</td>\n",
       "    </tr>\n",
       "    <tr>\n",
       "      <th>4</th>\n",
       "      <td>That step stopped traders from changing their positions, an extraordinary risk- management move used so firms can reassess trades or unwind them.</td>\n",
       "      <td>[0.0088688545, 0.9849134, 0.006217668]</td>\n",
       "      <td>negative</td>\n",
       "      <td>-0.976045</td>\n",
       "      <td>0.333333</td>\n",
       "    </tr>\n",
       "    <tr>\n",
       "      <th>5</th>\n",
       "      <td>ExodusPoint lost about $400 million last month, leaving it down 2% in October, people said.</td>\n",
       "      <td>[0.0024979883, 0.98882663, 0.008675445]</td>\n",
       "      <td>negative</td>\n",
       "      <td>-0.986329</td>\n",
       "      <td>-0.077778</td>\n",
       "    </tr>\n",
       "    <tr>\n",
       "      <th>6</th>\n",
       "      <td>The fund is still up 2.8% year- to-date.</td>\n",
       "      <td>[0.9834394, 0.0023719133, 0.0141887255]</td>\n",
       "      <td>positive</td>\n",
       "      <td>0.981067</td>\n",
       "      <td>0.000000</td>\n",
       "    </tr>\n",
       "    <tr>\n",
       "      <th>7</th>\n",
       "      <td>Millennium Management also suffered amid the tumult and is continuing to monitor its macro portfolio managers’ trades, people said.</td>\n",
       "      <td>[0.004146723, 0.9259216, 0.069931716]</td>\n",
       "      <td>negative</td>\n",
       "      <td>-0.921775</td>\n",
       "      <td>0.000000</td>\n",
       "    </tr>\n",
       "    <tr>\n",
       "      <th>8</th>\n",
       "      <td>Meanwhile, Point72 Asset Management’s macro business was said to see some losses from the bond-market moves.</td>\n",
       "      <td>[0.0025855629, 0.99376655, 0.0036478993]</td>\n",
       "      <td>negative</td>\n",
       "      <td>-0.991181</td>\n",
       "      <td>0.000000</td>\n",
       "    </tr>\n",
       "    <tr>\n",
       "      <th>9</th>\n",
       "      <td>The hits show how even some of the most sophisticated traders have been caught flat-footed by the rapid shift in sentiment that has raced through markets.</td>\n",
       "      <td>[0.0047986354, 0.11334432, 0.88185704]</td>\n",
       "      <td>neutral</td>\n",
       "      <td>-0.108546</td>\n",
       "      <td>0.500000</td>\n",
       "    </tr>\n",
       "    <tr>\n",
       "      <th>10</th>\n",
       "      <td>It’s unclear how much the losses will drag down the hedge funds’ returns, and they could be offset by the stock rally that’s driven the S&amp;P 500 to new record highs.</td>\n",
       "      <td>[0.007975135, 0.93297803, 0.059046872]</td>\n",
       "      <td>negative</td>\n",
       "      <td>-0.925003</td>\n",
       "      <td>0.020202</td>\n",
       "    </tr>\n",
       "    <tr>\n",
       "      <th>11</th>\n",
       "      <td>Representatives for the firms declined to comment.</td>\n",
       "      <td>[0.0037005718, 0.0076429364, 0.9886565]</td>\n",
       "      <td>neutral</td>\n",
       "      <td>-0.003942</td>\n",
       "      <td>0.000000</td>\n",
       "    </tr>\n",
       "    <tr>\n",
       "      <th>12</th>\n",
       "      <td>Many hedge funds had been betting that central banks would be slow to raise interest rates, seeing the surge in consumer prices as a temporary side-effect of the pandemic.</td>\n",
       "      <td>[0.0034516698, 0.9854593, 0.011088965]</td>\n",
       "      <td>negative</td>\n",
       "      <td>-0.982008</td>\n",
       "      <td>0.066667</td>\n",
       "    </tr>\n",
       "    <tr>\n",
       "      <th>13</th>\n",
       "      <td>But that view has been challenged as hawkish comments from the Bank of England cemented expectations for a rate hike, the Bank of Canada shut down its bond buying program and Australian policymakers abandoned a key short-term yield target.</td>\n",
       "      <td>[0.0066862763, 0.9366192, 0.056694508]</td>\n",
       "      <td>negative</td>\n",
       "      <td>-0.929933</td>\n",
       "      <td>-0.051852</td>\n",
       "    </tr>\n",
       "    <tr>\n",
       "      <th>14</th>\n",
       "      <td>In the U.S., where the Federal Reserve is widely expected Wednesday to announce plans for winding down its bond purchases, markets are now pricing in two rate hikes by December 2022.</td>\n",
       "      <td>[0.009207297, 0.32169515, 0.6690975]</td>\n",
       "      <td>neutral</td>\n",
       "      <td>-0.312488</td>\n",
       "      <td>-0.127778</td>\n",
       "    </tr>\n",
       "    <tr>\n",
       "      <th>15</th>\n",
       "      <td>That has upended trades betting that the gap between short- and long-term bond yields would widen, which would happen if markets expected growth and inflation to accelerate in the face of loose monetary policy.</td>\n",
       "      <td>[0.0037908508, 0.96735954, 0.028849656]</td>\n",
       "      <td>negative</td>\n",
       "      <td>-0.963569</td>\n",
       "      <td>-0.058974</td>\n",
       "    </tr>\n",
       "    <tr>\n",
       "      <th>16</th>\n",
       "      <td>Instead, that gap narrowed.</td>\n",
       "      <td>[0.12087161, 0.005743692, 0.87338465]</td>\n",
       "      <td>neutral</td>\n",
       "      <td>0.115128</td>\n",
       "      <td>0.000000</td>\n",
       "    </tr>\n",
       "    <tr>\n",
       "      <th>17</th>\n",
       "      <td>Read more: Bond Market Dares Fed to Defy It After Bloody Week for Investors In the U.S., the difference between two- and 10-year Treasury yields flattened by 13 basis points Wednesday, marking one of the biggest one-day moves in the yield curve of the past two decades, according to Cornerstone Macro’s estimates.</td>\n",
       "      <td>[0.0042835837, 0.98664784, 0.009068584]</td>\n",
       "      <td>negative</td>\n",
       "      <td>-0.982364</td>\n",
       "      <td>-0.183333</td>\n",
       "    </tr>\n",
       "    <tr>\n",
       "      <th>18</th>\n",
       "      <td>That came as the two-year Treasury yield almost doubled last month to about 0.5%.</td>\n",
       "      <td>[0.99133027, 0.004144572, 0.0045251343]</td>\n",
       "      <td>positive</td>\n",
       "      <td>0.987186</td>\n",
       "      <td>0.000000</td>\n",
       "    </tr>\n",
       "    <tr>\n",
       "      <th>19</th>\n",
       "      <td>An upward move hadn’t approached that degree since December 2009, when the two-year yield jumped to about 1.14% from 0.66%.</td>\n",
       "      <td>[0.98716474, 0.007553239, 0.0052820146]</td>\n",
       "      <td>positive</td>\n",
       "      <td>0.979612</td>\n",
       "      <td>0.000000</td>\n",
       "    </tr>\n",
       "    <tr>\n",
       "      <th>20</th>\n",
       "      <td>The volatility this year has led to heavy losses for some of the best known macro traders in the world.</td>\n",
       "      <td>[0.0033321069, 0.9952702, 0.0013976946]</td>\n",
       "      <td>negative</td>\n",
       "      <td>-0.991938</td>\n",
       "      <td>0.400000</td>\n",
       "    </tr>\n",
       "    <tr>\n",
       "      <th>21</th>\n",
       "      <td>Billionaire Chris Rokos’s hedge fund losses worsened to 20% through Oct. 22 this year, in part because of wagers that the yield curve would steepen in the U.K. and U.S. Alphadyne Asset Management, which has never had a down year since it started up in 2006, had lost 13% during the period.</td>\n",
       "      <td>[0.003048392, 0.99117416, 0.0057775094]</td>\n",
       "      <td>negative</td>\n",
       "      <td>-0.988126</td>\n",
       "      <td>-0.155556</td>\n",
       "    </tr>\n",
       "    <tr>\n",
       "      <th>22</th>\n",
       "      <td>Another hedge fund that suffered heavy losses was interest- rate-focused Frost Asset Management, which slumped almost 18% last month largely due to the sharp rise in Swedish short-term interest rates and flatter yield curves, according to the fund’s backer Brummer &amp; Partners AB.</td>\n",
       "      <td>[0.002624401, 0.99191135, 0.0054641766]</td>\n",
       "      <td>negative</td>\n",
       "      <td>-0.989287</td>\n",
       "      <td>-0.112500</td>\n",
       "    </tr>\n",
       "  </tbody>\n",
       "</table>\n",
       "</div>"
      ],
      "text/plain": [
       "                                                                                                                                                                                                                                                                                                                     sentence  \\\n",
       "0   The hedge fund traders watched as a nightmare scenario played out in the world’s bonds markets.                                                                                                                                                                                                                             \n",
       "1   From Australia to the U.K. to the U.S., government bond yields abruptly moved against them last week amid growing speculation that central banks will accelerate plans for raising interest rates in the face of persistent inflation.                                                                                      \n",
       "2   The losses piled up -- and for a few became so big that the firms halted some trading to contain the damage.                                                                                                                                                                                                                \n",
       "3   Balyasny Asset Management, BlueCrest Capital Management and ExodusPoint Capital Management each curtailed the betting of two to four traders after they hit maximum loss levels, according to people with knowledge of the matter, who asked not to be identified because the information is private.                       \n",
       "4   That step stopped traders from changing their positions, an extraordinary risk- management move used so firms can reassess trades or unwind them.                                                                                                                                                                           \n",
       "5   ExodusPoint lost about $400 million last month, leaving it down 2% in October, people said.                                                                                                                                                                                                                                 \n",
       "6   The fund is still up 2.8% year- to-date.                                                                                                                                                                                                                                                                                    \n",
       "7   Millennium Management also suffered amid the tumult and is continuing to monitor its macro portfolio managers’ trades, people said.                                                                                                                                                                                         \n",
       "8   Meanwhile, Point72 Asset Management’s macro business was said to see some losses from the bond-market moves.                                                                                                                                                                                                                \n",
       "9   The hits show how even some of the most sophisticated traders have been caught flat-footed by the rapid shift in sentiment that has raced through markets.                                                                                                                                                                  \n",
       "10  It’s unclear how much the losses will drag down the hedge funds’ returns, and they could be offset by the stock rally that’s driven the S&P 500 to new record highs.                                                                                                                                                        \n",
       "11  Representatives for the firms declined to comment.                                                                                                                                                                                                                                                                          \n",
       "12  Many hedge funds had been betting that central banks would be slow to raise interest rates, seeing the surge in consumer prices as a temporary side-effect of the pandemic.                                                                                                                                                 \n",
       "13  But that view has been challenged as hawkish comments from the Bank of England cemented expectations for a rate hike, the Bank of Canada shut down its bond buying program and Australian policymakers abandoned a key short-term yield target.                                                                             \n",
       "14  In the U.S., where the Federal Reserve is widely expected Wednesday to announce plans for winding down its bond purchases, markets are now pricing in two rate hikes by December 2022.                                                                                                                                      \n",
       "15  That has upended trades betting that the gap between short- and long-term bond yields would widen, which would happen if markets expected growth and inflation to accelerate in the face of loose monetary policy.                                                                                                          \n",
       "16  Instead, that gap narrowed.                                                                                                                                                                                                                                                                                                 \n",
       "17  Read more: Bond Market Dares Fed to Defy It After Bloody Week for Investors In the U.S., the difference between two- and 10-year Treasury yields flattened by 13 basis points Wednesday, marking one of the biggest one-day moves in the yield curve of the past two decades, according to Cornerstone Macro’s estimates.   \n",
       "18  That came as the two-year Treasury yield almost doubled last month to about 0.5%.                                                                                                                                                                                                                                           \n",
       "19  An upward move hadn’t approached that degree since December 2009, when the two-year yield jumped to about 1.14% from 0.66%.                                                                                                                                                                                                 \n",
       "20  The volatility this year has led to heavy losses for some of the best known macro traders in the world.                                                                                                                                                                                                                     \n",
       "21  Billionaire Chris Rokos’s hedge fund losses worsened to 20% through Oct. 22 this year, in part because of wagers that the yield curve would steepen in the U.K. and U.S. Alphadyne Asset Management, which has never had a down year since it started up in 2006, had lost 13% during the period.                           \n",
       "22  Another hedge fund that suffered heavy losses was interest- rate-focused Frost Asset Management, which slumped almost 18% last month largely due to the sharp rise in Swedish short-term interest rates and flatter yield curves, according to the fund’s backer Brummer & Partners AB.                                     \n",
       "\n",
       "                                       logit prediction  sentiment_score  \\\n",
       "0   [0.0108164, 0.21103124, 0.7781524]        neutral   -0.200215          \n",
       "1   [0.0036933662, 0.9883773, 0.007929306]    negative  -0.984684          \n",
       "2   [0.0053127944, 0.99111396, 0.003573179]   negative  -0.985801          \n",
       "3   [0.0038873581, 0.9824223, 0.013690379]    negative  -0.978535          \n",
       "4   [0.0088688545, 0.9849134, 0.006217668]    negative  -0.976045          \n",
       "5   [0.0024979883, 0.98882663, 0.008675445]   negative  -0.986329          \n",
       "6   [0.9834394, 0.0023719133, 0.0141887255]   positive   0.981067          \n",
       "7   [0.004146723, 0.9259216, 0.069931716]     negative  -0.921775          \n",
       "8   [0.0025855629, 0.99376655, 0.0036478993]  negative  -0.991181          \n",
       "9   [0.0047986354, 0.11334432, 0.88185704]    neutral   -0.108546          \n",
       "10  [0.007975135, 0.93297803, 0.059046872]    negative  -0.925003          \n",
       "11  [0.0037005718, 0.0076429364, 0.9886565]   neutral   -0.003942          \n",
       "12  [0.0034516698, 0.9854593, 0.011088965]    negative  -0.982008          \n",
       "13  [0.0066862763, 0.9366192, 0.056694508]    negative  -0.929933          \n",
       "14  [0.009207297, 0.32169515, 0.6690975]      neutral   -0.312488          \n",
       "15  [0.0037908508, 0.96735954, 0.028849656]   negative  -0.963569          \n",
       "16  [0.12087161, 0.005743692, 0.87338465]     neutral    0.115128          \n",
       "17  [0.0042835837, 0.98664784, 0.009068584]   negative  -0.982364          \n",
       "18  [0.99133027, 0.004144572, 0.0045251343]   positive   0.987186          \n",
       "19  [0.98716474, 0.007553239, 0.0052820146]   positive   0.979612          \n",
       "20  [0.0033321069, 0.9952702, 0.0013976946]   negative  -0.991938          \n",
       "21  [0.003048392, 0.99117416, 0.0057775094]   negative  -0.988126          \n",
       "22  [0.002624401, 0.99191135, 0.0054641766]   negative  -0.989287          \n",
       "\n",
       "    textblob_prediction  \n",
       "0   0.000000             \n",
       "1  -0.041667             \n",
       "2  -0.100000             \n",
       "3   0.000000             \n",
       "4   0.333333             \n",
       "5  -0.077778             \n",
       "6   0.000000             \n",
       "7   0.000000             \n",
       "8   0.000000             \n",
       "9   0.500000             \n",
       "10  0.020202             \n",
       "11  0.000000             \n",
       "12  0.066667             \n",
       "13 -0.051852             \n",
       "14 -0.127778             \n",
       "15 -0.058974             \n",
       "16  0.000000             \n",
       "17 -0.183333             \n",
       "18  0.000000             \n",
       "19  0.000000             \n",
       "20  0.400000             \n",
       "21 -0.155556             \n",
       "22 -0.112500             "
      ]
     },
     "execution_count": 88,
     "metadata": {},
     "output_type": "execute_result"
    }
   ],
   "source": [
    "result3"
   ]
  },
  {
   "cell_type": "code",
   "execution_count": 89,
   "metadata": {},
   "outputs": [
    {
     "name": "stdout",
     "output_type": "stream",
     "text": [
      "Average sentiment is -0.53.\n"
     ]
    }
   ],
   "source": [
    "print(f'Average sentiment is %.2f.' % (result3.sentiment_score.mean()))"
   ]
  },
  {
   "cell_type": "code",
   "execution_count": null,
   "metadata": {},
   "outputs": [],
   "source": []
  }
 ],
 "metadata": {
  "kernelspec": {
   "display_name": "Python 3",
   "language": "python",
   "name": "python3"
  },
  "language_info": {
   "codemirror_mode": {
    "name": "ipython",
    "version": 3
   },
   "file_extension": ".py",
   "mimetype": "text/x-python",
   "name": "python",
   "nbconvert_exporter": "python",
   "pygments_lexer": "ipython3",
   "version": "3.7.3"
  },
  "pycharm": {
   "stem_cell": {
    "cell_type": "raw",
    "metadata": {
     "collapsed": false
    },
    "source": []
   }
  },
  "toc": {
   "base_numbering": 1,
   "nav_menu": {},
   "number_sections": true,
   "sideBar": true,
   "skip_h1_title": true,
   "title_cell": "Table of Contents",
   "title_sidebar": "Contents",
   "toc_cell": false,
   "toc_position": {},
   "toc_section_display": true,
   "toc_window_display": true
  }
 },
 "nbformat": 4,
 "nbformat_minor": 2
}
